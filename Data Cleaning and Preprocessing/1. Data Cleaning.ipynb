{
 "cells": [
  {
   "cell_type": "code",
   "execution_count": 1,
   "id": "f54a13ea-5144-4c2c-930c-927e802cf126",
   "metadata": {},
   "outputs": [],
   "source": [
    "import pandas as pd \n",
    "import matplotlib.pyplot as plt \n",
    "import seaborn as sns"
   ]
  },
  {
   "cell_type": "code",
   "execution_count": 2,
   "id": "4073f221-1e35-4214-adb1-2e7281193778",
   "metadata": {},
   "outputs": [
    {
     "data": {
      "text/html": [
       "<div>\n",
       "<style scoped>\n",
       "    .dataframe tbody tr th:only-of-type {\n",
       "        vertical-align: middle;\n",
       "    }\n",
       "\n",
       "    .dataframe tbody tr th {\n",
       "        vertical-align: top;\n",
       "    }\n",
       "\n",
       "    .dataframe thead th {\n",
       "        text-align: right;\n",
       "    }\n",
       "</style>\n",
       "<table border=\"1\" class=\"dataframe\">\n",
       "  <thead>\n",
       "    <tr style=\"text-align: right;\">\n",
       "      <th></th>\n",
       "      <th>Employee_ID</th>\n",
       "      <th>Name</th>\n",
       "      <th>Age</th>\n",
       "      <th>Department</th>\n",
       "      <th>Salary</th>\n",
       "      <th>Date_of_Joining</th>\n",
       "      <th>Gender</th>\n",
       "      <th>Experience_Years</th>\n",
       "    </tr>\n",
       "  </thead>\n",
       "  <tbody>\n",
       "    <tr>\n",
       "      <th>0</th>\n",
       "      <td>E0001</td>\n",
       "      <td>Employee_1</td>\n",
       "      <td>52.0</td>\n",
       "      <td>Finance</td>\n",
       "      <td>NaN</td>\n",
       "      <td>2012-04-01</td>\n",
       "      <td>Mle</td>\n",
       "      <td>14.5</td>\n",
       "    </tr>\n",
       "    <tr>\n",
       "      <th>1</th>\n",
       "      <td>E0002</td>\n",
       "      <td>Employee_2</td>\n",
       "      <td>31.0</td>\n",
       "      <td>NaN</td>\n",
       "      <td>31891.90</td>\n",
       "      <td>2019-08-16</td>\n",
       "      <td>Mle</td>\n",
       "      <td>5.2</td>\n",
       "    </tr>\n",
       "    <tr>\n",
       "      <th>2</th>\n",
       "      <td>E0003</td>\n",
       "      <td>Employee_3</td>\n",
       "      <td>33.0</td>\n",
       "      <td>HR</td>\n",
       "      <td>104236.84</td>\n",
       "      <td>2006-04-26</td>\n",
       "      <td>Mle</td>\n",
       "      <td>23.6</td>\n",
       "    </tr>\n",
       "  </tbody>\n",
       "</table>\n",
       "</div>"
      ],
      "text/plain": [
       "  Employee_ID        Name   Age Department     Salary Date_of_Joining Gender  \\\n",
       "0       E0001  Employee_1  52.0    Finance        NaN      2012-04-01    Mle   \n",
       "1       E0002  Employee_2  31.0        NaN   31891.90      2019-08-16    Mle   \n",
       "2       E0003  Employee_3  33.0         HR  104236.84      2006-04-26    Mle   \n",
       "\n",
       "   Experience_Years  \n",
       "0              14.5  \n",
       "1               5.2  \n",
       "2              23.6  "
      ]
     },
     "execution_count": 2,
     "metadata": {},
     "output_type": "execute_result"
    }
   ],
   "source": [
    "df=pd.read_csv(r\"D:\\DataSet\\employee_data_for_cleaning.csv\")\n",
    "df.head(3)"
   ]
  },
  {
   "cell_type": "code",
   "execution_count": 3,
   "id": "5f38e056-c750-4ef5-b45a-5d83cc7645f7",
   "metadata": {},
   "outputs": [
    {
     "name": "stdout",
     "output_type": "stream",
     "text": [
      "<class 'pandas.core.frame.DataFrame'>\n",
      "RangeIndex: 1000 entries, 0 to 999\n",
      "Data columns (total 8 columns):\n",
      " #   Column            Non-Null Count  Dtype  \n",
      "---  ------            --------------  -----  \n",
      " 0   Employee_ID       946 non-null    object \n",
      " 1   Name              892 non-null    object \n",
      " 2   Age               903 non-null    float64\n",
      " 3   Department        826 non-null    object \n",
      " 4   Salary            893 non-null    float64\n",
      " 5   Date_of_Joining   907 non-null    object \n",
      " 6   Gender            840 non-null    object \n",
      " 7   Experience_Years  904 non-null    float64\n",
      "dtypes: float64(3), object(5)\n",
      "memory usage: 62.6+ KB\n"
     ]
    }
   ],
   "source": [
    "df.info()"
   ]
  },
  {
   "cell_type": "markdown",
   "id": "b9bd2672-be7c-4ad1-898f-0afdd0613fd2",
   "metadata": {},
   "source": [
    "# Checking missing values"
   ]
  },
  {
   "cell_type": "code",
   "execution_count": 4,
   "id": "f906b03a-ea48-41a2-a442-c51fac6f47aa",
   "metadata": {},
   "outputs": [
    {
     "data": {
      "text/html": [
       "<div>\n",
       "<style scoped>\n",
       "    .dataframe tbody tr th:only-of-type {\n",
       "        vertical-align: middle;\n",
       "    }\n",
       "\n",
       "    .dataframe tbody tr th {\n",
       "        vertical-align: top;\n",
       "    }\n",
       "\n",
       "    .dataframe thead th {\n",
       "        text-align: right;\n",
       "    }\n",
       "</style>\n",
       "<table border=\"1\" class=\"dataframe\">\n",
       "  <thead>\n",
       "    <tr style=\"text-align: right;\">\n",
       "      <th></th>\n",
       "      <th>Employee_ID</th>\n",
       "      <th>Name</th>\n",
       "      <th>Age</th>\n",
       "      <th>Department</th>\n",
       "      <th>Salary</th>\n",
       "      <th>Date_of_Joining</th>\n",
       "      <th>Gender</th>\n",
       "      <th>Experience_Years</th>\n",
       "    </tr>\n",
       "  </thead>\n",
       "  <tbody>\n",
       "    <tr>\n",
       "      <th>0</th>\n",
       "      <td>False</td>\n",
       "      <td>False</td>\n",
       "      <td>False</td>\n",
       "      <td>False</td>\n",
       "      <td>True</td>\n",
       "      <td>False</td>\n",
       "      <td>False</td>\n",
       "      <td>False</td>\n",
       "    </tr>\n",
       "    <tr>\n",
       "      <th>1</th>\n",
       "      <td>False</td>\n",
       "      <td>False</td>\n",
       "      <td>False</td>\n",
       "      <td>True</td>\n",
       "      <td>False</td>\n",
       "      <td>False</td>\n",
       "      <td>False</td>\n",
       "      <td>False</td>\n",
       "    </tr>\n",
       "    <tr>\n",
       "      <th>2</th>\n",
       "      <td>False</td>\n",
       "      <td>False</td>\n",
       "      <td>False</td>\n",
       "      <td>False</td>\n",
       "      <td>False</td>\n",
       "      <td>False</td>\n",
       "      <td>False</td>\n",
       "      <td>False</td>\n",
       "    </tr>\n",
       "    <tr>\n",
       "      <th>3</th>\n",
       "      <td>False</td>\n",
       "      <td>False</td>\n",
       "      <td>False</td>\n",
       "      <td>False</td>\n",
       "      <td>False</td>\n",
       "      <td>False</td>\n",
       "      <td>True</td>\n",
       "      <td>False</td>\n",
       "    </tr>\n",
       "    <tr>\n",
       "      <th>4</th>\n",
       "      <td>False</td>\n",
       "      <td>False</td>\n",
       "      <td>False</td>\n",
       "      <td>False</td>\n",
       "      <td>False</td>\n",
       "      <td>False</td>\n",
       "      <td>False</td>\n",
       "      <td>False</td>\n",
       "    </tr>\n",
       "    <tr>\n",
       "      <th>...</th>\n",
       "      <td>...</td>\n",
       "      <td>...</td>\n",
       "      <td>...</td>\n",
       "      <td>...</td>\n",
       "      <td>...</td>\n",
       "      <td>...</td>\n",
       "      <td>...</td>\n",
       "      <td>...</td>\n",
       "    </tr>\n",
       "    <tr>\n",
       "      <th>995</th>\n",
       "      <td>False</td>\n",
       "      <td>False</td>\n",
       "      <td>False</td>\n",
       "      <td>False</td>\n",
       "      <td>False</td>\n",
       "      <td>False</td>\n",
       "      <td>False</td>\n",
       "      <td>False</td>\n",
       "    </tr>\n",
       "    <tr>\n",
       "      <th>996</th>\n",
       "      <td>False</td>\n",
       "      <td>False</td>\n",
       "      <td>False</td>\n",
       "      <td>False</td>\n",
       "      <td>False</td>\n",
       "      <td>False</td>\n",
       "      <td>True</td>\n",
       "      <td>True</td>\n",
       "    </tr>\n",
       "    <tr>\n",
       "      <th>997</th>\n",
       "      <td>False</td>\n",
       "      <td>True</td>\n",
       "      <td>False</td>\n",
       "      <td>True</td>\n",
       "      <td>False</td>\n",
       "      <td>False</td>\n",
       "      <td>True</td>\n",
       "      <td>False</td>\n",
       "    </tr>\n",
       "    <tr>\n",
       "      <th>998</th>\n",
       "      <td>False</td>\n",
       "      <td>True</td>\n",
       "      <td>True</td>\n",
       "      <td>False</td>\n",
       "      <td>False</td>\n",
       "      <td>True</td>\n",
       "      <td>False</td>\n",
       "      <td>False</td>\n",
       "    </tr>\n",
       "    <tr>\n",
       "      <th>999</th>\n",
       "      <td>False</td>\n",
       "      <td>False</td>\n",
       "      <td>True</td>\n",
       "      <td>False</td>\n",
       "      <td>True</td>\n",
       "      <td>False</td>\n",
       "      <td>True</td>\n",
       "      <td>False</td>\n",
       "    </tr>\n",
       "  </tbody>\n",
       "</table>\n",
       "<p>1000 rows × 8 columns</p>\n",
       "</div>"
      ],
      "text/plain": [
       "     Employee_ID   Name    Age  Department  Salary  Date_of_Joining  Gender  \\\n",
       "0          False  False  False       False    True            False   False   \n",
       "1          False  False  False        True   False            False   False   \n",
       "2          False  False  False       False   False            False   False   \n",
       "3          False  False  False       False   False            False    True   \n",
       "4          False  False  False       False   False            False   False   \n",
       "..           ...    ...    ...         ...     ...              ...     ...   \n",
       "995        False  False  False       False   False            False   False   \n",
       "996        False  False  False       False   False            False    True   \n",
       "997        False   True  False        True   False            False    True   \n",
       "998        False   True   True       False   False             True   False   \n",
       "999        False  False   True       False    True            False    True   \n",
       "\n",
       "     Experience_Years  \n",
       "0               False  \n",
       "1               False  \n",
       "2               False  \n",
       "3               False  \n",
       "4               False  \n",
       "..                ...  \n",
       "995             False  \n",
       "996              True  \n",
       "997             False  \n",
       "998             False  \n",
       "999             False  \n",
       "\n",
       "[1000 rows x 8 columns]"
      ]
     },
     "execution_count": 4,
     "metadata": {},
     "output_type": "execute_result"
    }
   ],
   "source": [
    "df.isnull()"
   ]
  },
  {
   "cell_type": "code",
   "execution_count": 5,
   "id": "4328e74f-ccce-4e6e-8d3c-e7ca80cbb065",
   "metadata": {},
   "outputs": [
    {
     "data": {
      "text/plain": [
       "Employee_ID          54\n",
       "Name                108\n",
       "Age                  97\n",
       "Department          174\n",
       "Salary              107\n",
       "Date_of_Joining      93\n",
       "Gender              160\n",
       "Experience_Years     96\n",
       "dtype: int64"
      ]
     },
     "execution_count": 5,
     "metadata": {},
     "output_type": "execute_result"
    }
   ],
   "source": [
    "df.isnull().sum()"
   ]
  },
  {
   "cell_type": "code",
   "execution_count": 6,
   "id": "7223cbe7-17b9-4aa3-a55f-cbf54d914c3b",
   "metadata": {},
   "outputs": [
    {
     "data": {
      "text/plain": [
       "(1000, 8)"
      ]
     },
     "execution_count": 6,
     "metadata": {},
     "output_type": "execute_result"
    }
   ],
   "source": [
    "df.shape"
   ]
  },
  {
   "cell_type": "code",
   "execution_count": null,
   "id": "448e7174-4a21-40be-82a8-7160003a3e4a",
   "metadata": {},
   "outputs": [],
   "source": []
  },
  {
   "cell_type": "markdown",
   "id": "b86ab4e6-7661-4c65-aa69-20482c8fa8c9",
   "metadata": {},
   "source": [
    "checking % of missing values per column"
   ]
  },
  {
   "cell_type": "code",
   "execution_count": 7,
   "id": "4f50f879-12d8-4a0c-920e-d54117ec5d96",
   "metadata": {},
   "outputs": [
    {
     "data": {
      "text/plain": [
       "Employee_ID          5.4\n",
       "Name                10.8\n",
       "Age                  9.7\n",
       "Department          17.4\n",
       "Salary              10.7\n",
       "Date_of_Joining      9.3\n",
       "Gender              16.0\n",
       "Experience_Years     9.6\n",
       "dtype: float64"
      ]
     },
     "execution_count": 7,
     "metadata": {},
     "output_type": "execute_result"
    }
   ],
   "source": [
    "df.isnull().sum()/df.shape[0]*100"
   ]
  },
  {
   "cell_type": "code",
   "execution_count": null,
   "id": "c21e237d-dd0f-4737-80f4-6a6eab008aee",
   "metadata": {},
   "outputs": [],
   "source": []
  },
  {
   "cell_type": "markdown",
   "id": "89f91f15-2c3a-49fe-a6fb-2c859ac63ae7",
   "metadata": {},
   "source": [
    "checing % of missing values in entire dataset"
   ]
  },
  {
   "cell_type": "code",
   "execution_count": 8,
   "id": "650dd5e3-4160-4742-8d19-28d49b9eca69",
   "metadata": {},
   "outputs": [
    {
     "data": {
      "text/plain": [
       "11.1125"
      ]
     },
     "execution_count": 8,
     "metadata": {},
     "output_type": "execute_result"
    }
   ],
   "source": [
    "df.isnull().sum().sum()/(df.shape[0]*df.shape[1])*100"
   ]
  },
  {
   "cell_type": "markdown",
   "id": "986788d0-34c8-4471-8716-b029ab98ad34",
   "metadata": {},
   "source": [
    "# Plotting null values"
   ]
  },
  {
   "cell_type": "code",
   "execution_count": 9,
   "id": "e09e965c-5af6-43b1-980d-a1a792df462b",
   "metadata": {},
   "outputs": [
    {
     "data": {
      "image/png": "[encoded data removed]",
      "text/plain": [
       "<Figure size 640x480 with 2 Axes>"
      ]
     },
     "metadata": {},
     "output_type": "display_data"
    }
   ],
   "source": [
    "sns.heatmap(df.isnull())\n",
    "plt.show()"
   ]
  },
  {
   "cell_type": "code",
   "execution_count": null,
   "id": "05817461-678c-4c96-8544-a896dd54ad36",
   "metadata": {},
   "outputs": [],
   "source": []
  },
  {
   "cell_type": "markdown",
   "id": "eb63441e-9c85-4d56-adab-dbadda752864",
   "metadata": {},
   "source": [
    "# Data Cleaning"
   ]
  },
  {
   "cell_type": "code",
   "execution_count": 10,
   "id": "f8ae91b6-af00-4307-bb41-b1580871825d",
   "metadata": {},
   "outputs": [
    {
     "data": {
      "text/plain": [
       "Index(['Employee_ID', 'Name', 'Age', 'Department', 'Salary', 'Date_of_Joining',\n",
       "       'Gender', 'Experience_Years'],\n",
       "      dtype='object')"
      ]
     },
     "execution_count": 10,
     "metadata": {},
     "output_type": "execute_result"
    }
   ],
   "source": [
    "df.columns"
   ]
  },
  {
   "cell_type": "code",
   "execution_count": null,
   "id": "2ae07af8-5511-48b6-b9ea-1e0ef545a947",
   "metadata": {},
   "outputs": [],
   "source": []
  },
  {
   "cell_type": "markdown",
   "id": "3ed9b688-feed-4760-b206-d2f4d2df9c0e",
   "metadata": {},
   "source": [
    "Drop column"
   ]
  },
  {
   "cell_type": "code",
   "execution_count": 11,
   "id": "90a388ce-5922-4223-b9c4-18510a8f72d3",
   "metadata": {},
   "outputs": [],
   "source": [
    "df.drop(columns=['Date_of_Joining'],inplace=True)"
   ]
  },
  {
   "cell_type": "code",
   "execution_count": 12,
   "id": "bb5d1d8f-9e3d-4847-aebc-6737ebd084c5",
   "metadata": {},
   "outputs": [
    {
     "data": {
      "text/html": [
       "<div>\n",
       "<style scoped>\n",
       "    .dataframe tbody tr th:only-of-type {\n",
       "        vertical-align: middle;\n",
       "    }\n",
       "\n",
       "    .dataframe tbody tr th {\n",
       "        vertical-align: top;\n",
       "    }\n",
       "\n",
       "    .dataframe thead th {\n",
       "        text-align: right;\n",
       "    }\n",
       "</style>\n",
       "<table border=\"1\" class=\"dataframe\">\n",
       "  <thead>\n",
       "    <tr style=\"text-align: right;\">\n",
       "      <th></th>\n",
       "      <th>Employee_ID</th>\n",
       "      <th>Name</th>\n",
       "      <th>Age</th>\n",
       "      <th>Department</th>\n",
       "      <th>Salary</th>\n",
       "      <th>Gender</th>\n",
       "      <th>Experience_Years</th>\n",
       "    </tr>\n",
       "  </thead>\n",
       "  <tbody>\n",
       "    <tr>\n",
       "      <th>0</th>\n",
       "      <td>E0001</td>\n",
       "      <td>Employee_1</td>\n",
       "      <td>52.0</td>\n",
       "      <td>Finance</td>\n",
       "      <td>NaN</td>\n",
       "      <td>Mle</td>\n",
       "      <td>14.5</td>\n",
       "    </tr>\n",
       "    <tr>\n",
       "      <th>1</th>\n",
       "      <td>E0002</td>\n",
       "      <td>Employee_2</td>\n",
       "      <td>31.0</td>\n",
       "      <td>NaN</td>\n",
       "      <td>31891.90</td>\n",
       "      <td>Mle</td>\n",
       "      <td>5.2</td>\n",
       "    </tr>\n",
       "    <tr>\n",
       "      <th>2</th>\n",
       "      <td>E0003</td>\n",
       "      <td>Employee_3</td>\n",
       "      <td>33.0</td>\n",
       "      <td>HR</td>\n",
       "      <td>104236.84</td>\n",
       "      <td>Mle</td>\n",
       "      <td>23.6</td>\n",
       "    </tr>\n",
       "    <tr>\n",
       "      <th>3</th>\n",
       "      <td>E0004</td>\n",
       "      <td>Employee_4</td>\n",
       "      <td>48.0</td>\n",
       "      <td>HR</td>\n",
       "      <td>55502.77</td>\n",
       "      <td>NaN</td>\n",
       "      <td>1.7</td>\n",
       "    </tr>\n",
       "    <tr>\n",
       "      <th>4</th>\n",
       "      <td>E0005</td>\n",
       "      <td>Employee_5</td>\n",
       "      <td>30.0</td>\n",
       "      <td>Finance</td>\n",
       "      <td>78869.83</td>\n",
       "      <td>Female</td>\n",
       "      <td>14.3</td>\n",
       "    </tr>\n",
       "    <tr>\n",
       "      <th>...</th>\n",
       "      <td>...</td>\n",
       "      <td>...</td>\n",
       "      <td>...</td>\n",
       "      <td>...</td>\n",
       "      <td>...</td>\n",
       "      <td>...</td>\n",
       "      <td>...</td>\n",
       "    </tr>\n",
       "    <tr>\n",
       "      <th>995</th>\n",
       "      <td>E0996</td>\n",
       "      <td>Employee_996</td>\n",
       "      <td>38.0</td>\n",
       "      <td>Marketing</td>\n",
       "      <td>49896.44</td>\n",
       "      <td>Female</td>\n",
       "      <td>19.3</td>\n",
       "    </tr>\n",
       "    <tr>\n",
       "      <th>996</th>\n",
       "      <td>E0997</td>\n",
       "      <td>Employee_997</td>\n",
       "      <td>40.0</td>\n",
       "      <td>Finance</td>\n",
       "      <td>75026.15</td>\n",
       "      <td>NaN</td>\n",
       "      <td>NaN</td>\n",
       "    </tr>\n",
       "    <tr>\n",
       "      <th>997</th>\n",
       "      <td>E0998</td>\n",
       "      <td>NaN</td>\n",
       "      <td>39.0</td>\n",
       "      <td>NaN</td>\n",
       "      <td>45228.27</td>\n",
       "      <td>NaN</td>\n",
       "      <td>33.8</td>\n",
       "    </tr>\n",
       "    <tr>\n",
       "      <th>998</th>\n",
       "      <td>E0999</td>\n",
       "      <td>NaN</td>\n",
       "      <td>NaN</td>\n",
       "      <td>Admin</td>\n",
       "      <td>30949.65</td>\n",
       "      <td>Male</td>\n",
       "      <td>7.6</td>\n",
       "    </tr>\n",
       "    <tr>\n",
       "      <th>999</th>\n",
       "      <td>E1000</td>\n",
       "      <td>Employee_1000</td>\n",
       "      <td>NaN</td>\n",
       "      <td>Admin</td>\n",
       "      <td>NaN</td>\n",
       "      <td>NaN</td>\n",
       "      <td>13.3</td>\n",
       "    </tr>\n",
       "  </tbody>\n",
       "</table>\n",
       "<p>1000 rows × 7 columns</p>\n",
       "</div>"
      ],
      "text/plain": [
       "    Employee_ID           Name   Age Department     Salary  Gender  \\\n",
       "0         E0001     Employee_1  52.0    Finance        NaN     Mle   \n",
       "1         E0002     Employee_2  31.0        NaN   31891.90     Mle   \n",
       "2         E0003     Employee_3  33.0         HR  104236.84     Mle   \n",
       "3         E0004     Employee_4  48.0         HR   55502.77     NaN   \n",
       "4         E0005     Employee_5  30.0    Finance   78869.83  Female   \n",
       "..          ...            ...   ...        ...        ...     ...   \n",
       "995       E0996   Employee_996  38.0  Marketing   49896.44  Female   \n",
       "996       E0997   Employee_997  40.0    Finance   75026.15     NaN   \n",
       "997       E0998            NaN  39.0        NaN   45228.27     NaN   \n",
       "998       E0999            NaN   NaN      Admin   30949.65    Male   \n",
       "999       E1000  Employee_1000   NaN      Admin        NaN     NaN   \n",
       "\n",
       "     Experience_Years  \n",
       "0                14.5  \n",
       "1                 5.2  \n",
       "2                23.6  \n",
       "3                 1.7  \n",
       "4                14.3  \n",
       "..                ...  \n",
       "995              19.3  \n",
       "996               NaN  \n",
       "997              33.8  \n",
       "998               7.6  \n",
       "999              13.3  \n",
       "\n",
       "[1000 rows x 7 columns]"
      ]
     },
     "execution_count": 12,
     "metadata": {},
     "output_type": "execute_result"
    }
   ],
   "source": [
    "df"
   ]
  },
  {
   "cell_type": "markdown",
   "id": "3c0a558b-340a-4020-9298-59088ff14b5f",
   "metadata": {},
   "source": [
    "# Handling Categorical Data"
   ]
  },
  {
   "cell_type": "code",
   "execution_count": 13,
   "id": "e0f10362-259a-42f0-9b01-0acff9e677bd",
   "metadata": {},
   "outputs": [
    {
     "data": {
      "text/plain": [
       "Employee_ID     54\n",
       "Name           108\n",
       "Department     174\n",
       "Gender         160\n",
       "dtype: int64"
      ]
     },
     "execution_count": 13,
     "metadata": {},
     "output_type": "execute_result"
    }
   ],
   "source": [
    "df.select_dtypes(include='object').isnull().sum()"
   ]
  },
  {
   "cell_type": "code",
   "execution_count": null,
   "id": "502abf83-9214-42a0-9da0-1ca1d47b12eb",
   "metadata": {},
   "outputs": [],
   "source": []
  },
  {
   "cell_type": "markdown",
   "id": "ca42aaba-8e94-4031-ada2-17da7835a325",
   "metadata": {},
   "source": [
    "Drop missing values from specific column"
   ]
  },
  {
   "cell_type": "code",
   "execution_count": 14,
   "id": "9b807aa3-f91e-409c-a9ff-4d7fae33599c",
   "metadata": {},
   "outputs": [
    {
     "data": {
      "text/html": [
       "<div>\n",
       "<style scoped>\n",
       "    .dataframe tbody tr th:only-of-type {\n",
       "        vertical-align: middle;\n",
       "    }\n",
       "\n",
       "    .dataframe tbody tr th {\n",
       "        vertical-align: top;\n",
       "    }\n",
       "\n",
       "    .dataframe thead th {\n",
       "        text-align: right;\n",
       "    }\n",
       "</style>\n",
       "<table border=\"1\" class=\"dataframe\">\n",
       "  <thead>\n",
       "    <tr style=\"text-align: right;\">\n",
       "      <th></th>\n",
       "      <th>Employee_ID</th>\n",
       "      <th>Name</th>\n",
       "      <th>Age</th>\n",
       "      <th>Department</th>\n",
       "      <th>Salary</th>\n",
       "      <th>Gender</th>\n",
       "      <th>Experience_Years</th>\n",
       "    </tr>\n",
       "  </thead>\n",
       "  <tbody>\n",
       "    <tr>\n",
       "      <th>0</th>\n",
       "      <td>E0001</td>\n",
       "      <td>Employee_1</td>\n",
       "      <td>52.0</td>\n",
       "      <td>Finance</td>\n",
       "      <td>NaN</td>\n",
       "      <td>Mle</td>\n",
       "      <td>14.5</td>\n",
       "    </tr>\n",
       "    <tr>\n",
       "      <th>1</th>\n",
       "      <td>E0002</td>\n",
       "      <td>Employee_2</td>\n",
       "      <td>31.0</td>\n",
       "      <td>NaN</td>\n",
       "      <td>31891.90</td>\n",
       "      <td>Mle</td>\n",
       "      <td>5.2</td>\n",
       "    </tr>\n",
       "    <tr>\n",
       "      <th>2</th>\n",
       "      <td>E0003</td>\n",
       "      <td>Employee_3</td>\n",
       "      <td>33.0</td>\n",
       "      <td>HR</td>\n",
       "      <td>104236.84</td>\n",
       "      <td>Mle</td>\n",
       "      <td>23.6</td>\n",
       "    </tr>\n",
       "    <tr>\n",
       "      <th>3</th>\n",
       "      <td>E0004</td>\n",
       "      <td>Employee_4</td>\n",
       "      <td>48.0</td>\n",
       "      <td>HR</td>\n",
       "      <td>55502.77</td>\n",
       "      <td>NaN</td>\n",
       "      <td>1.7</td>\n",
       "    </tr>\n",
       "    <tr>\n",
       "      <th>4</th>\n",
       "      <td>E0005</td>\n",
       "      <td>Employee_5</td>\n",
       "      <td>30.0</td>\n",
       "      <td>Finance</td>\n",
       "      <td>78869.83</td>\n",
       "      <td>Female</td>\n",
       "      <td>14.3</td>\n",
       "    </tr>\n",
       "    <tr>\n",
       "      <th>...</th>\n",
       "      <td>...</td>\n",
       "      <td>...</td>\n",
       "      <td>...</td>\n",
       "      <td>...</td>\n",
       "      <td>...</td>\n",
       "      <td>...</td>\n",
       "      <td>...</td>\n",
       "    </tr>\n",
       "    <tr>\n",
       "      <th>993</th>\n",
       "      <td>E0994</td>\n",
       "      <td>Employee_994</td>\n",
       "      <td>48.0</td>\n",
       "      <td>HR</td>\n",
       "      <td>67753.33</td>\n",
       "      <td>Non-binary</td>\n",
       "      <td>0.3</td>\n",
       "    </tr>\n",
       "    <tr>\n",
       "      <th>994</th>\n",
       "      <td>E0995</td>\n",
       "      <td>Employee_995</td>\n",
       "      <td>49.0</td>\n",
       "      <td>HR</td>\n",
       "      <td>89924.77</td>\n",
       "      <td>Male</td>\n",
       "      <td>3.4</td>\n",
       "    </tr>\n",
       "    <tr>\n",
       "      <th>995</th>\n",
       "      <td>E0996</td>\n",
       "      <td>Employee_996</td>\n",
       "      <td>38.0</td>\n",
       "      <td>Marketing</td>\n",
       "      <td>49896.44</td>\n",
       "      <td>Female</td>\n",
       "      <td>19.3</td>\n",
       "    </tr>\n",
       "    <tr>\n",
       "      <th>996</th>\n",
       "      <td>E0997</td>\n",
       "      <td>Employee_997</td>\n",
       "      <td>40.0</td>\n",
       "      <td>Finance</td>\n",
       "      <td>75026.15</td>\n",
       "      <td>NaN</td>\n",
       "      <td>NaN</td>\n",
       "    </tr>\n",
       "    <tr>\n",
       "      <th>999</th>\n",
       "      <td>E1000</td>\n",
       "      <td>Employee_1000</td>\n",
       "      <td>NaN</td>\n",
       "      <td>Admin</td>\n",
       "      <td>NaN</td>\n",
       "      <td>NaN</td>\n",
       "      <td>13.3</td>\n",
       "    </tr>\n",
       "  </tbody>\n",
       "</table>\n",
       "<p>892 rows × 7 columns</p>\n",
       "</div>"
      ],
      "text/plain": [
       "    Employee_ID           Name   Age Department     Salary      Gender  \\\n",
       "0         E0001     Employee_1  52.0    Finance        NaN         Mle   \n",
       "1         E0002     Employee_2  31.0        NaN   31891.90         Mle   \n",
       "2         E0003     Employee_3  33.0         HR  104236.84         Mle   \n",
       "3         E0004     Employee_4  48.0         HR   55502.77         NaN   \n",
       "4         E0005     Employee_5  30.0    Finance   78869.83      Female   \n",
       "..          ...            ...   ...        ...        ...         ...   \n",
       "993       E0994   Employee_994  48.0         HR   67753.33  Non-binary   \n",
       "994       E0995   Employee_995  49.0         HR   89924.77        Male   \n",
       "995       E0996   Employee_996  38.0  Marketing   49896.44      Female   \n",
       "996       E0997   Employee_997  40.0    Finance   75026.15         NaN   \n",
       "999       E1000  Employee_1000   NaN      Admin        NaN         NaN   \n",
       "\n",
       "     Experience_Years  \n",
       "0                14.5  \n",
       "1                 5.2  \n",
       "2                23.6  \n",
       "3                 1.7  \n",
       "4                14.3  \n",
       "..                ...  \n",
       "993               0.3  \n",
       "994               3.4  \n",
       "995              19.3  \n",
       "996               NaN  \n",
       "999              13.3  \n",
       "\n",
       "[892 rows x 7 columns]"
      ]
     },
     "execution_count": 14,
     "metadata": {},
     "output_type": "execute_result"
    }
   ],
   "source": [
    "df=df.dropna(subset=['Name'])\n",
    "df"
   ]
  },
  {
   "cell_type": "code",
   "execution_count": null,
   "id": "9c26ebf5-4d26-4a52-aab9-ebb2d8995b23",
   "metadata": {},
   "outputs": [],
   "source": []
  },
  {
   "cell_type": "markdown",
   "id": "0c321ff9-8c6e-43f0-87a8-35393555581b",
   "metadata": {},
   "source": [
    "Filling missing values by mode"
   ]
  },
  {
   "cell_type": "code",
   "execution_count": 15,
   "id": "c1f63e07-642d-48f0-895a-d05dd31e2332",
   "metadata": {},
   "outputs": [
    {
     "data": {
      "text/plain": [
       "0    Admin\n",
       "Name: Department, dtype: object"
      ]
     },
     "execution_count": 15,
     "metadata": {},
     "output_type": "execute_result"
    }
   ],
   "source": [
    "df['Department'].mode()"
   ]
  },
  {
   "cell_type": "code",
   "execution_count": 16,
   "id": "4a5c8968-ae3d-4043-ba9d-d8492bf26789",
   "metadata": {},
   "outputs": [
    {
     "data": {
      "text/html": [
       "<div>\n",
       "<style scoped>\n",
       "    .dataframe tbody tr th:only-of-type {\n",
       "        vertical-align: middle;\n",
       "    }\n",
       "\n",
       "    .dataframe tbody tr th {\n",
       "        vertical-align: top;\n",
       "    }\n",
       "\n",
       "    .dataframe thead th {\n",
       "        text-align: right;\n",
       "    }\n",
       "</style>\n",
       "<table border=\"1\" class=\"dataframe\">\n",
       "  <thead>\n",
       "    <tr style=\"text-align: right;\">\n",
       "      <th></th>\n",
       "      <th>Employee_ID</th>\n",
       "      <th>Name</th>\n",
       "      <th>Age</th>\n",
       "      <th>Department</th>\n",
       "      <th>Salary</th>\n",
       "      <th>Gender</th>\n",
       "      <th>Experience_Years</th>\n",
       "    </tr>\n",
       "  </thead>\n",
       "  <tbody>\n",
       "    <tr>\n",
       "      <th>0</th>\n",
       "      <td>E0001</td>\n",
       "      <td>Employee_1</td>\n",
       "      <td>52.0</td>\n",
       "      <td>Finance</td>\n",
       "      <td>NaN</td>\n",
       "      <td>Mle</td>\n",
       "      <td>14.5</td>\n",
       "    </tr>\n",
       "    <tr>\n",
       "      <th>1</th>\n",
       "      <td>E0002</td>\n",
       "      <td>Employee_2</td>\n",
       "      <td>31.0</td>\n",
       "      <td>Admin</td>\n",
       "      <td>31891.90</td>\n",
       "      <td>Mle</td>\n",
       "      <td>5.2</td>\n",
       "    </tr>\n",
       "    <tr>\n",
       "      <th>2</th>\n",
       "      <td>E0003</td>\n",
       "      <td>Employee_3</td>\n",
       "      <td>33.0</td>\n",
       "      <td>HR</td>\n",
       "      <td>104236.84</td>\n",
       "      <td>Mle</td>\n",
       "      <td>23.6</td>\n",
       "    </tr>\n",
       "    <tr>\n",
       "      <th>3</th>\n",
       "      <td>E0004</td>\n",
       "      <td>Employee_4</td>\n",
       "      <td>48.0</td>\n",
       "      <td>HR</td>\n",
       "      <td>55502.77</td>\n",
       "      <td>NaN</td>\n",
       "      <td>1.7</td>\n",
       "    </tr>\n",
       "    <tr>\n",
       "      <th>4</th>\n",
       "      <td>E0005</td>\n",
       "      <td>Employee_5</td>\n",
       "      <td>30.0</td>\n",
       "      <td>Finance</td>\n",
       "      <td>78869.83</td>\n",
       "      <td>Female</td>\n",
       "      <td>14.3</td>\n",
       "    </tr>\n",
       "    <tr>\n",
       "      <th>...</th>\n",
       "      <td>...</td>\n",
       "      <td>...</td>\n",
       "      <td>...</td>\n",
       "      <td>...</td>\n",
       "      <td>...</td>\n",
       "      <td>...</td>\n",
       "      <td>...</td>\n",
       "    </tr>\n",
       "    <tr>\n",
       "      <th>993</th>\n",
       "      <td>E0994</td>\n",
       "      <td>Employee_994</td>\n",
       "      <td>48.0</td>\n",
       "      <td>HR</td>\n",
       "      <td>67753.33</td>\n",
       "      <td>Non-binary</td>\n",
       "      <td>0.3</td>\n",
       "    </tr>\n",
       "    <tr>\n",
       "      <th>994</th>\n",
       "      <td>E0995</td>\n",
       "      <td>Employee_995</td>\n",
       "      <td>49.0</td>\n",
       "      <td>HR</td>\n",
       "      <td>89924.77</td>\n",
       "      <td>Male</td>\n",
       "      <td>3.4</td>\n",
       "    </tr>\n",
       "    <tr>\n",
       "      <th>995</th>\n",
       "      <td>E0996</td>\n",
       "      <td>Employee_996</td>\n",
       "      <td>38.0</td>\n",
       "      <td>Marketing</td>\n",
       "      <td>49896.44</td>\n",
       "      <td>Female</td>\n",
       "      <td>19.3</td>\n",
       "    </tr>\n",
       "    <tr>\n",
       "      <th>996</th>\n",
       "      <td>E0997</td>\n",
       "      <td>Employee_997</td>\n",
       "      <td>40.0</td>\n",
       "      <td>Finance</td>\n",
       "      <td>75026.15</td>\n",
       "      <td>NaN</td>\n",
       "      <td>NaN</td>\n",
       "    </tr>\n",
       "    <tr>\n",
       "      <th>999</th>\n",
       "      <td>E1000</td>\n",
       "      <td>Employee_1000</td>\n",
       "      <td>NaN</td>\n",
       "      <td>Admin</td>\n",
       "      <td>NaN</td>\n",
       "      <td>NaN</td>\n",
       "      <td>13.3</td>\n",
       "    </tr>\n",
       "  </tbody>\n",
       "</table>\n",
       "<p>892 rows × 7 columns</p>\n",
       "</div>"
      ],
      "text/plain": [
       "    Employee_ID           Name   Age Department     Salary      Gender  \\\n",
       "0         E0001     Employee_1  52.0    Finance        NaN         Mle   \n",
       "1         E0002     Employee_2  31.0      Admin   31891.90         Mle   \n",
       "2         E0003     Employee_3  33.0         HR  104236.84         Mle   \n",
       "3         E0004     Employee_4  48.0         HR   55502.77         NaN   \n",
       "4         E0005     Employee_5  30.0    Finance   78869.83      Female   \n",
       "..          ...            ...   ...        ...        ...         ...   \n",
       "993       E0994   Employee_994  48.0         HR   67753.33  Non-binary   \n",
       "994       E0995   Employee_995  49.0         HR   89924.77        Male   \n",
       "995       E0996   Employee_996  38.0  Marketing   49896.44      Female   \n",
       "996       E0997   Employee_997  40.0    Finance   75026.15         NaN   \n",
       "999       E1000  Employee_1000   NaN      Admin        NaN         NaN   \n",
       "\n",
       "     Experience_Years  \n",
       "0                14.5  \n",
       "1                 5.2  \n",
       "2                23.6  \n",
       "3                 1.7  \n",
       "4                14.3  \n",
       "..                ...  \n",
       "993               0.3  \n",
       "994               3.4  \n",
       "995              19.3  \n",
       "996               NaN  \n",
       "999              13.3  \n",
       "\n",
       "[892 rows x 7 columns]"
      ]
     },
     "execution_count": 16,
     "metadata": {},
     "output_type": "execute_result"
    }
   ],
   "source": [
    "df.loc[:, 'Department'] = df['Department'].fillna(df['Department'].mode()[0])\n",
    "df"
   ]
  },
  {
   "cell_type": "code",
   "execution_count": null,
   "id": "180224d5-6996-4504-ae1f-1f2198833148",
   "metadata": {},
   "outputs": [],
   "source": []
  },
  {
   "cell_type": "code",
   "execution_count": 17,
   "id": "99acb32d-ba61-4779-83a8-4be51ccb5a85",
   "metadata": {},
   "outputs": [
    {
     "data": {
      "text/plain": [
       "array(['Mle', nan, 'Female', 'Male', 'Fmale', 'Non-binary'], dtype=object)"
      ]
     },
     "execution_count": 17,
     "metadata": {},
     "output_type": "execute_result"
    }
   ],
   "source": [
    "df['Gender'].unique()"
   ]
  },
  {
   "cell_type": "code",
   "execution_count": null,
   "id": "f0bf0327-794a-45e5-97c4-b22b7b87fe61",
   "metadata": {},
   "outputs": [],
   "source": []
  },
  {
   "cell_type": "markdown",
   "id": "69f89a1f-b3f2-4556-988a-0cc1fd4062ec",
   "metadata": {},
   "source": [
    "Replacing Mle to Male and Fmale to Female"
   ]
  },
  {
   "cell_type": "code",
   "execution_count": 18,
   "id": "c374fe6c-6c4d-4d23-b6dc-aac19a66e98f",
   "metadata": {},
   "outputs": [],
   "source": [
    "df.loc[:, 'Gender'] = df['Gender'].replace({\n",
    "    'Mle': 'Male',\n",
    "    'Fmale':'Female'\n",
    "})"
   ]
  },
  {
   "cell_type": "code",
   "execution_count": 19,
   "id": "227900ba-c880-4ef2-a8e8-668d3f04c1da",
   "metadata": {},
   "outputs": [
    {
     "data": {
      "text/html": [
       "<div>\n",
       "<style scoped>\n",
       "    .dataframe tbody tr th:only-of-type {\n",
       "        vertical-align: middle;\n",
       "    }\n",
       "\n",
       "    .dataframe tbody tr th {\n",
       "        vertical-align: top;\n",
       "    }\n",
       "\n",
       "    .dataframe thead th {\n",
       "        text-align: right;\n",
       "    }\n",
       "</style>\n",
       "<table border=\"1\" class=\"dataframe\">\n",
       "  <thead>\n",
       "    <tr style=\"text-align: right;\">\n",
       "      <th></th>\n",
       "      <th>Employee_ID</th>\n",
       "      <th>Name</th>\n",
       "      <th>Age</th>\n",
       "      <th>Department</th>\n",
       "      <th>Salary</th>\n",
       "      <th>Gender</th>\n",
       "      <th>Experience_Years</th>\n",
       "    </tr>\n",
       "  </thead>\n",
       "  <tbody>\n",
       "    <tr>\n",
       "      <th>0</th>\n",
       "      <td>E0001</td>\n",
       "      <td>Employee_1</td>\n",
       "      <td>52.0</td>\n",
       "      <td>Finance</td>\n",
       "      <td>NaN</td>\n",
       "      <td>Male</td>\n",
       "      <td>14.5</td>\n",
       "    </tr>\n",
       "    <tr>\n",
       "      <th>1</th>\n",
       "      <td>E0002</td>\n",
       "      <td>Employee_2</td>\n",
       "      <td>31.0</td>\n",
       "      <td>Admin</td>\n",
       "      <td>31891.90</td>\n",
       "      <td>Male</td>\n",
       "      <td>5.2</td>\n",
       "    </tr>\n",
       "    <tr>\n",
       "      <th>2</th>\n",
       "      <td>E0003</td>\n",
       "      <td>Employee_3</td>\n",
       "      <td>33.0</td>\n",
       "      <td>HR</td>\n",
       "      <td>104236.84</td>\n",
       "      <td>Male</td>\n",
       "      <td>23.6</td>\n",
       "    </tr>\n",
       "    <tr>\n",
       "      <th>3</th>\n",
       "      <td>E0004</td>\n",
       "      <td>Employee_4</td>\n",
       "      <td>48.0</td>\n",
       "      <td>HR</td>\n",
       "      <td>55502.77</td>\n",
       "      <td>NaN</td>\n",
       "      <td>1.7</td>\n",
       "    </tr>\n",
       "    <tr>\n",
       "      <th>4</th>\n",
       "      <td>E0005</td>\n",
       "      <td>Employee_5</td>\n",
       "      <td>30.0</td>\n",
       "      <td>Finance</td>\n",
       "      <td>78869.83</td>\n",
       "      <td>Female</td>\n",
       "      <td>14.3</td>\n",
       "    </tr>\n",
       "    <tr>\n",
       "      <th>...</th>\n",
       "      <td>...</td>\n",
       "      <td>...</td>\n",
       "      <td>...</td>\n",
       "      <td>...</td>\n",
       "      <td>...</td>\n",
       "      <td>...</td>\n",
       "      <td>...</td>\n",
       "    </tr>\n",
       "    <tr>\n",
       "      <th>993</th>\n",
       "      <td>E0994</td>\n",
       "      <td>Employee_994</td>\n",
       "      <td>48.0</td>\n",
       "      <td>HR</td>\n",
       "      <td>67753.33</td>\n",
       "      <td>Non-binary</td>\n",
       "      <td>0.3</td>\n",
       "    </tr>\n",
       "    <tr>\n",
       "      <th>994</th>\n",
       "      <td>E0995</td>\n",
       "      <td>Employee_995</td>\n",
       "      <td>49.0</td>\n",
       "      <td>HR</td>\n",
       "      <td>89924.77</td>\n",
       "      <td>Male</td>\n",
       "      <td>3.4</td>\n",
       "    </tr>\n",
       "    <tr>\n",
       "      <th>995</th>\n",
       "      <td>E0996</td>\n",
       "      <td>Employee_996</td>\n",
       "      <td>38.0</td>\n",
       "      <td>Marketing</td>\n",
       "      <td>49896.44</td>\n",
       "      <td>Female</td>\n",
       "      <td>19.3</td>\n",
       "    </tr>\n",
       "    <tr>\n",
       "      <th>996</th>\n",
       "      <td>E0997</td>\n",
       "      <td>Employee_997</td>\n",
       "      <td>40.0</td>\n",
       "      <td>Finance</td>\n",
       "      <td>75026.15</td>\n",
       "      <td>NaN</td>\n",
       "      <td>NaN</td>\n",
       "    </tr>\n",
       "    <tr>\n",
       "      <th>999</th>\n",
       "      <td>E1000</td>\n",
       "      <td>Employee_1000</td>\n",
       "      <td>NaN</td>\n",
       "      <td>Admin</td>\n",
       "      <td>NaN</td>\n",
       "      <td>NaN</td>\n",
       "      <td>13.3</td>\n",
       "    </tr>\n",
       "  </tbody>\n",
       "</table>\n",
       "<p>892 rows × 7 columns</p>\n",
       "</div>"
      ],
      "text/plain": [
       "    Employee_ID           Name   Age Department     Salary      Gender  \\\n",
       "0         E0001     Employee_1  52.0    Finance        NaN        Male   \n",
       "1         E0002     Employee_2  31.0      Admin   31891.90        Male   \n",
       "2         E0003     Employee_3  33.0         HR  104236.84        Male   \n",
       "3         E0004     Employee_4  48.0         HR   55502.77         NaN   \n",
       "4         E0005     Employee_5  30.0    Finance   78869.83      Female   \n",
       "..          ...            ...   ...        ...        ...         ...   \n",
       "993       E0994   Employee_994  48.0         HR   67753.33  Non-binary   \n",
       "994       E0995   Employee_995  49.0         HR   89924.77        Male   \n",
       "995       E0996   Employee_996  38.0  Marketing   49896.44      Female   \n",
       "996       E0997   Employee_997  40.0    Finance   75026.15         NaN   \n",
       "999       E1000  Employee_1000   NaN      Admin        NaN         NaN   \n",
       "\n",
       "     Experience_Years  \n",
       "0                14.5  \n",
       "1                 5.2  \n",
       "2                23.6  \n",
       "3                 1.7  \n",
       "4                14.3  \n",
       "..                ...  \n",
       "993               0.3  \n",
       "994               3.4  \n",
       "995              19.3  \n",
       "996               NaN  \n",
       "999              13.3  \n",
       "\n",
       "[892 rows x 7 columns]"
      ]
     },
     "execution_count": 19,
     "metadata": {},
     "output_type": "execute_result"
    }
   ],
   "source": [
    "df"
   ]
  },
  {
   "cell_type": "code",
   "execution_count": null,
   "id": "1adff869-3cf7-4a98-a9f8-e532cdd2e6cd",
   "metadata": {},
   "outputs": [],
   "source": []
  },
  {
   "cell_type": "markdown",
   "id": "cc454da4-f40d-4dcd-b326-3bcb03f5b775",
   "metadata": {},
   "source": [
    "Filling missing values by ffill"
   ]
  },
  {
   "cell_type": "code",
   "execution_count": 20,
   "id": "8d095743-9e66-417f-8763-87701cabad35",
   "metadata": {},
   "outputs": [
    {
     "data": {
      "text/html": [
       "<div>\n",
       "<style scoped>\n",
       "    .dataframe tbody tr th:only-of-type {\n",
       "        vertical-align: middle;\n",
       "    }\n",
       "\n",
       "    .dataframe tbody tr th {\n",
       "        vertical-align: top;\n",
       "    }\n",
       "\n",
       "    .dataframe thead th {\n",
       "        text-align: right;\n",
       "    }\n",
       "</style>\n",
       "<table border=\"1\" class=\"dataframe\">\n",
       "  <thead>\n",
       "    <tr style=\"text-align: right;\">\n",
       "      <th></th>\n",
       "      <th>Employee_ID</th>\n",
       "      <th>Name</th>\n",
       "      <th>Age</th>\n",
       "      <th>Department</th>\n",
       "      <th>Salary</th>\n",
       "      <th>Gender</th>\n",
       "      <th>Experience_Years</th>\n",
       "    </tr>\n",
       "  </thead>\n",
       "  <tbody>\n",
       "    <tr>\n",
       "      <th>0</th>\n",
       "      <td>E0001</td>\n",
       "      <td>Employee_1</td>\n",
       "      <td>52.0</td>\n",
       "      <td>Finance</td>\n",
       "      <td>NaN</td>\n",
       "      <td>Male</td>\n",
       "      <td>14.5</td>\n",
       "    </tr>\n",
       "    <tr>\n",
       "      <th>1</th>\n",
       "      <td>E0002</td>\n",
       "      <td>Employee_2</td>\n",
       "      <td>31.0</td>\n",
       "      <td>Admin</td>\n",
       "      <td>31891.90</td>\n",
       "      <td>Male</td>\n",
       "      <td>5.2</td>\n",
       "    </tr>\n",
       "    <tr>\n",
       "      <th>2</th>\n",
       "      <td>E0003</td>\n",
       "      <td>Employee_3</td>\n",
       "      <td>33.0</td>\n",
       "      <td>HR</td>\n",
       "      <td>104236.84</td>\n",
       "      <td>Male</td>\n",
       "      <td>23.6</td>\n",
       "    </tr>\n",
       "    <tr>\n",
       "      <th>3</th>\n",
       "      <td>E0004</td>\n",
       "      <td>Employee_4</td>\n",
       "      <td>48.0</td>\n",
       "      <td>HR</td>\n",
       "      <td>55502.77</td>\n",
       "      <td>Male</td>\n",
       "      <td>1.7</td>\n",
       "    </tr>\n",
       "    <tr>\n",
       "      <th>4</th>\n",
       "      <td>E0005</td>\n",
       "      <td>Employee_5</td>\n",
       "      <td>30.0</td>\n",
       "      <td>Finance</td>\n",
       "      <td>78869.83</td>\n",
       "      <td>Female</td>\n",
       "      <td>14.3</td>\n",
       "    </tr>\n",
       "    <tr>\n",
       "      <th>...</th>\n",
       "      <td>...</td>\n",
       "      <td>...</td>\n",
       "      <td>...</td>\n",
       "      <td>...</td>\n",
       "      <td>...</td>\n",
       "      <td>...</td>\n",
       "      <td>...</td>\n",
       "    </tr>\n",
       "    <tr>\n",
       "      <th>993</th>\n",
       "      <td>E0994</td>\n",
       "      <td>Employee_994</td>\n",
       "      <td>48.0</td>\n",
       "      <td>HR</td>\n",
       "      <td>67753.33</td>\n",
       "      <td>Non-binary</td>\n",
       "      <td>0.3</td>\n",
       "    </tr>\n",
       "    <tr>\n",
       "      <th>994</th>\n",
       "      <td>E0995</td>\n",
       "      <td>Employee_995</td>\n",
       "      <td>49.0</td>\n",
       "      <td>HR</td>\n",
       "      <td>89924.77</td>\n",
       "      <td>Male</td>\n",
       "      <td>3.4</td>\n",
       "    </tr>\n",
       "    <tr>\n",
       "      <th>995</th>\n",
       "      <td>E0996</td>\n",
       "      <td>Employee_996</td>\n",
       "      <td>38.0</td>\n",
       "      <td>Marketing</td>\n",
       "      <td>49896.44</td>\n",
       "      <td>Female</td>\n",
       "      <td>19.3</td>\n",
       "    </tr>\n",
       "    <tr>\n",
       "      <th>996</th>\n",
       "      <td>E0997</td>\n",
       "      <td>Employee_997</td>\n",
       "      <td>40.0</td>\n",
       "      <td>Finance</td>\n",
       "      <td>75026.15</td>\n",
       "      <td>Female</td>\n",
       "      <td>NaN</td>\n",
       "    </tr>\n",
       "    <tr>\n",
       "      <th>999</th>\n",
       "      <td>E1000</td>\n",
       "      <td>Employee_1000</td>\n",
       "      <td>NaN</td>\n",
       "      <td>Admin</td>\n",
       "      <td>NaN</td>\n",
       "      <td>Female</td>\n",
       "      <td>13.3</td>\n",
       "    </tr>\n",
       "  </tbody>\n",
       "</table>\n",
       "<p>892 rows × 7 columns</p>\n",
       "</div>"
      ],
      "text/plain": [
       "    Employee_ID           Name   Age Department     Salary      Gender  \\\n",
       "0         E0001     Employee_1  52.0    Finance        NaN        Male   \n",
       "1         E0002     Employee_2  31.0      Admin   31891.90        Male   \n",
       "2         E0003     Employee_3  33.0         HR  104236.84        Male   \n",
       "3         E0004     Employee_4  48.0         HR   55502.77        Male   \n",
       "4         E0005     Employee_5  30.0    Finance   78869.83      Female   \n",
       "..          ...            ...   ...        ...        ...         ...   \n",
       "993       E0994   Employee_994  48.0         HR   67753.33  Non-binary   \n",
       "994       E0995   Employee_995  49.0         HR   89924.77        Male   \n",
       "995       E0996   Employee_996  38.0  Marketing   49896.44      Female   \n",
       "996       E0997   Employee_997  40.0    Finance   75026.15      Female   \n",
       "999       E1000  Employee_1000   NaN      Admin        NaN      Female   \n",
       "\n",
       "     Experience_Years  \n",
       "0                14.5  \n",
       "1                 5.2  \n",
       "2                23.6  \n",
       "3                 1.7  \n",
       "4                14.3  \n",
       "..                ...  \n",
       "993               0.3  \n",
       "994               3.4  \n",
       "995              19.3  \n",
       "996               NaN  \n",
       "999              13.3  \n",
       "\n",
       "[892 rows x 7 columns]"
      ]
     },
     "execution_count": 20,
     "metadata": {},
     "output_type": "execute_result"
    }
   ],
   "source": [
    "df.loc[:,'Gender']=df['Gender'].ffill()\n",
    "df"
   ]
  },
  {
   "cell_type": "code",
   "execution_count": null,
   "id": "2f32d809-39b3-443d-90fd-ad4368383145",
   "metadata": {},
   "outputs": [],
   "source": []
  },
  {
   "cell_type": "markdown",
   "id": "03e5acd2-f4d4-43d8-b262-af18ec571dce",
   "metadata": {},
   "source": [
    "# Handling Numerical Data"
   ]
  },
  {
   "cell_type": "code",
   "execution_count": 21,
   "id": "ccb3d3f4-079a-41e3-8bb5-6466c674db42",
   "metadata": {},
   "outputs": [
    {
     "data": {
      "text/plain": [
       "Age                 88\n",
       "Salary              97\n",
       "Experience_Years    86\n",
       "dtype: int64"
      ]
     },
     "execution_count": 21,
     "metadata": {},
     "output_type": "execute_result"
    }
   ],
   "source": [
    "df.select_dtypes(include='float64').isnull().sum()"
   ]
  },
  {
   "cell_type": "code",
   "execution_count": null,
   "id": "acf16ed7-2693-4876-8f1e-8060ea769d3e",
   "metadata": {},
   "outputs": [],
   "source": []
  },
  {
   "cell_type": "markdown",
   "id": "a692d00e-06b5-46e5-8244-d48d0bc0114e",
   "metadata": {},
   "source": [
    "Filling null values by mean"
   ]
  },
  {
   "cell_type": "code",
   "execution_count": 22,
   "id": "a17b0546-49da-4731-9f65-2b4d265e4b9c",
   "metadata": {},
   "outputs": [
    {
     "data": {
      "text/html": [
       "<div>\n",
       "<style scoped>\n",
       "    .dataframe tbody tr th:only-of-type {\n",
       "        vertical-align: middle;\n",
       "    }\n",
       "\n",
       "    .dataframe tbody tr th {\n",
       "        vertical-align: top;\n",
       "    }\n",
       "\n",
       "    .dataframe thead th {\n",
       "        text-align: right;\n",
       "    }\n",
       "</style>\n",
       "<table border=\"1\" class=\"dataframe\">\n",
       "  <thead>\n",
       "    <tr style=\"text-align: right;\">\n",
       "      <th></th>\n",
       "      <th>Employee_ID</th>\n",
       "      <th>Name</th>\n",
       "      <th>Age</th>\n",
       "      <th>Department</th>\n",
       "      <th>Salary</th>\n",
       "      <th>Gender</th>\n",
       "      <th>Experience_Years</th>\n",
       "    </tr>\n",
       "  </thead>\n",
       "  <tbody>\n",
       "    <tr>\n",
       "      <th>0</th>\n",
       "      <td>E0001</td>\n",
       "      <td>Employee_1</td>\n",
       "      <td>52.0</td>\n",
       "      <td>Finance</td>\n",
       "      <td>NaN</td>\n",
       "      <td>Male</td>\n",
       "      <td>14.5</td>\n",
       "    </tr>\n",
       "    <tr>\n",
       "      <th>1</th>\n",
       "      <td>E0002</td>\n",
       "      <td>Employee_2</td>\n",
       "      <td>31.0</td>\n",
       "      <td>Admin</td>\n",
       "      <td>31891.90</td>\n",
       "      <td>Male</td>\n",
       "      <td>5.2</td>\n",
       "    </tr>\n",
       "    <tr>\n",
       "      <th>2</th>\n",
       "      <td>E0003</td>\n",
       "      <td>Employee_3</td>\n",
       "      <td>33.0</td>\n",
       "      <td>HR</td>\n",
       "      <td>104236.84</td>\n",
       "      <td>Male</td>\n",
       "      <td>23.6</td>\n",
       "    </tr>\n",
       "  </tbody>\n",
       "</table>\n",
       "</div>"
      ],
      "text/plain": [
       "  Employee_ID        Name   Age Department     Salary Gender  Experience_Years\n",
       "0       E0001  Employee_1  52.0    Finance        NaN   Male              14.5\n",
       "1       E0002  Employee_2  31.0      Admin   31891.90   Male               5.2\n",
       "2       E0003  Employee_3  33.0         HR  104236.84   Male              23.6"
      ]
     },
     "execution_count": 22,
     "metadata": {},
     "output_type": "execute_result"
    }
   ],
   "source": [
    "df.loc[:,'Age']=df['Age'].fillna(df['Age'].mean())\n",
    "df.head(3)"
   ]
  },
  {
   "cell_type": "code",
   "execution_count": null,
   "id": "2f830c5f-3c51-4ac4-9388-77087faf0713",
   "metadata": {},
   "outputs": [],
   "source": []
  },
  {
   "cell_type": "markdown",
   "id": "51e7e7c5-5f32-423f-a927-76ddc4685d91",
   "metadata": {},
   "source": [
    "Filling null values by median"
   ]
  },
  {
   "cell_type": "code",
   "execution_count": 23,
   "id": "57d36544-72c7-4406-a243-b46f35f3892b",
   "metadata": {},
   "outputs": [
    {
     "data": {
      "text/html": [
       "<div>\n",
       "<style scoped>\n",
       "    .dataframe tbody tr th:only-of-type {\n",
       "        vertical-align: middle;\n",
       "    }\n",
       "\n",
       "    .dataframe tbody tr th {\n",
       "        vertical-align: top;\n",
       "    }\n",
       "\n",
       "    .dataframe thead th {\n",
       "        text-align: right;\n",
       "    }\n",
       "</style>\n",
       "<table border=\"1\" class=\"dataframe\">\n",
       "  <thead>\n",
       "    <tr style=\"text-align: right;\">\n",
       "      <th></th>\n",
       "      <th>Employee_ID</th>\n",
       "      <th>Name</th>\n",
       "      <th>Age</th>\n",
       "      <th>Department</th>\n",
       "      <th>Salary</th>\n",
       "      <th>Gender</th>\n",
       "      <th>Experience_Years</th>\n",
       "    </tr>\n",
       "  </thead>\n",
       "  <tbody>\n",
       "    <tr>\n",
       "      <th>0</th>\n",
       "      <td>E0001</td>\n",
       "      <td>Employee_1</td>\n",
       "      <td>52.0</td>\n",
       "      <td>Finance</td>\n",
       "      <td>76330.58</td>\n",
       "      <td>Male</td>\n",
       "      <td>14.5</td>\n",
       "    </tr>\n",
       "    <tr>\n",
       "      <th>1</th>\n",
       "      <td>E0002</td>\n",
       "      <td>Employee_2</td>\n",
       "      <td>31.0</td>\n",
       "      <td>Admin</td>\n",
       "      <td>31891.90</td>\n",
       "      <td>Male</td>\n",
       "      <td>5.2</td>\n",
       "    </tr>\n",
       "    <tr>\n",
       "      <th>2</th>\n",
       "      <td>E0003</td>\n",
       "      <td>Employee_3</td>\n",
       "      <td>33.0</td>\n",
       "      <td>HR</td>\n",
       "      <td>104236.84</td>\n",
       "      <td>Male</td>\n",
       "      <td>23.6</td>\n",
       "    </tr>\n",
       "  </tbody>\n",
       "</table>\n",
       "</div>"
      ],
      "text/plain": [
       "  Employee_ID        Name   Age Department     Salary Gender  Experience_Years\n",
       "0       E0001  Employee_1  52.0    Finance   76330.58   Male              14.5\n",
       "1       E0002  Employee_2  31.0      Admin   31891.90   Male               5.2\n",
       "2       E0003  Employee_3  33.0         HR  104236.84   Male              23.6"
      ]
     },
     "execution_count": 23,
     "metadata": {},
     "output_type": "execute_result"
    }
   ],
   "source": [
    "df.loc[:,'Salary']=df['Salary'].fillna(df['Salary'].median())\n",
    "df.head(3)"
   ]
  },
  {
   "cell_type": "code",
   "execution_count": null,
   "id": "8b10d061-7238-4859-93ca-8d14d0b73d7a",
   "metadata": {},
   "outputs": [],
   "source": []
  },
  {
   "cell_type": "markdown",
   "id": "68771a66-e92e-4114-a9a4-35369027f034",
   "metadata": {},
   "source": [
    "Filling null Values by constant value"
   ]
  },
  {
   "cell_type": "code",
   "execution_count": 24,
   "id": "fd9d2fc3-d9bb-496e-9260-122a60bbf982",
   "metadata": {},
   "outputs": [
    {
     "data": {
      "text/html": [
       "<div>\n",
       "<style scoped>\n",
       "    .dataframe tbody tr th:only-of-type {\n",
       "        vertical-align: middle;\n",
       "    }\n",
       "\n",
       "    .dataframe tbody tr th {\n",
       "        vertical-align: top;\n",
       "    }\n",
       "\n",
       "    .dataframe thead th {\n",
       "        text-align: right;\n",
       "    }\n",
       "</style>\n",
       "<table border=\"1\" class=\"dataframe\">\n",
       "  <thead>\n",
       "    <tr style=\"text-align: right;\">\n",
       "      <th></th>\n",
       "      <th>Employee_ID</th>\n",
       "      <th>Name</th>\n",
       "      <th>Age</th>\n",
       "      <th>Department</th>\n",
       "      <th>Salary</th>\n",
       "      <th>Gender</th>\n",
       "      <th>Experience_Years</th>\n",
       "    </tr>\n",
       "  </thead>\n",
       "  <tbody>\n",
       "    <tr>\n",
       "      <th>0</th>\n",
       "      <td>E0001</td>\n",
       "      <td>Employee_1</td>\n",
       "      <td>52.0</td>\n",
       "      <td>Finance</td>\n",
       "      <td>76330.58</td>\n",
       "      <td>Male</td>\n",
       "      <td>14.5</td>\n",
       "    </tr>\n",
       "    <tr>\n",
       "      <th>1</th>\n",
       "      <td>E0002</td>\n",
       "      <td>Employee_2</td>\n",
       "      <td>31.0</td>\n",
       "      <td>Admin</td>\n",
       "      <td>31891.90</td>\n",
       "      <td>Male</td>\n",
       "      <td>5.2</td>\n",
       "    </tr>\n",
       "    <tr>\n",
       "      <th>2</th>\n",
       "      <td>E0003</td>\n",
       "      <td>Employee_3</td>\n",
       "      <td>33.0</td>\n",
       "      <td>HR</td>\n",
       "      <td>104236.84</td>\n",
       "      <td>Male</td>\n",
       "      <td>23.6</td>\n",
       "    </tr>\n",
       "  </tbody>\n",
       "</table>\n",
       "</div>"
      ],
      "text/plain": [
       "  Employee_ID        Name   Age Department     Salary Gender  Experience_Years\n",
       "0       E0001  Employee_1  52.0    Finance   76330.58   Male              14.5\n",
       "1       E0002  Employee_2  31.0      Admin   31891.90   Male               5.2\n",
       "2       E0003  Employee_3  33.0         HR  104236.84   Male              23.6"
      ]
     },
     "execution_count": 24,
     "metadata": {},
     "output_type": "execute_result"
    }
   ],
   "source": [
    "df.loc[:,'Experience_Years']=df['Experience_Years'].fillna(0)\n",
    "df.head(3)"
   ]
  },
  {
   "cell_type": "code",
   "execution_count": null,
   "id": "086adcbc-08f2-4ef6-b626-6ad165c95271",
   "metadata": {},
   "outputs": [],
   "source": []
  },
  {
   "cell_type": "markdown",
   "id": "630f3e9d-b34c-43d1-9853-b3edac4db8a6",
   "metadata": {},
   "source": [
    "Checking again null values"
   ]
  },
  {
   "cell_type": "code",
   "execution_count": 25,
   "id": "9e15fcb0-3d8a-49a0-812b-4a61426ddf59",
   "metadata": {},
   "outputs": [
    {
     "data": {
      "text/plain": [
       "Employee_ID         46\n",
       "Name                 0\n",
       "Age                  0\n",
       "Department           0\n",
       "Salary               0\n",
       "Gender               0\n",
       "Experience_Years     0\n",
       "dtype: int64"
      ]
     },
     "execution_count": 25,
     "metadata": {},
     "output_type": "execute_result"
    }
   ],
   "source": [
    "df.isnull().sum()"
   ]
  },
  {
   "cell_type": "code",
   "execution_count": null,
   "id": "65cb7186-26e2-40a7-9165-7b71ba5441b8",
   "metadata": {},
   "outputs": [],
   "source": []
  },
  {
   "cell_type": "markdown",
   "id": "38755cc1-206b-43f3-9ab0-1d66e77ad199",
   "metadata": {},
   "source": [
    "Droping all null values from dataset"
   ]
  },
  {
   "cell_type": "code",
   "execution_count": 26,
   "id": "e8b37e78-c004-4ec1-88c2-aeb96a8e85f7",
   "metadata": {},
   "outputs": [
    {
     "data": {
      "text/html": [
       "<div>\n",
       "<style scoped>\n",
       "    .dataframe tbody tr th:only-of-type {\n",
       "        vertical-align: middle;\n",
       "    }\n",
       "\n",
       "    .dataframe tbody tr th {\n",
       "        vertical-align: top;\n",
       "    }\n",
       "\n",
       "    .dataframe thead th {\n",
       "        text-align: right;\n",
       "    }\n",
       "</style>\n",
       "<table border=\"1\" class=\"dataframe\">\n",
       "  <thead>\n",
       "    <tr style=\"text-align: right;\">\n",
       "      <th></th>\n",
       "      <th>Employee_ID</th>\n",
       "      <th>Name</th>\n",
       "      <th>Age</th>\n",
       "      <th>Department</th>\n",
       "      <th>Salary</th>\n",
       "      <th>Gender</th>\n",
       "      <th>Experience_Years</th>\n",
       "    </tr>\n",
       "  </thead>\n",
       "  <tbody>\n",
       "    <tr>\n",
       "      <th>0</th>\n",
       "      <td>E0001</td>\n",
       "      <td>Employee_1</td>\n",
       "      <td>52.0</td>\n",
       "      <td>Finance</td>\n",
       "      <td>76330.58</td>\n",
       "      <td>Male</td>\n",
       "      <td>14.5</td>\n",
       "    </tr>\n",
       "    <tr>\n",
       "      <th>1</th>\n",
       "      <td>E0002</td>\n",
       "      <td>Employee_2</td>\n",
       "      <td>31.0</td>\n",
       "      <td>Admin</td>\n",
       "      <td>31891.90</td>\n",
       "      <td>Male</td>\n",
       "      <td>5.2</td>\n",
       "    </tr>\n",
       "    <tr>\n",
       "      <th>2</th>\n",
       "      <td>E0003</td>\n",
       "      <td>Employee_3</td>\n",
       "      <td>33.0</td>\n",
       "      <td>HR</td>\n",
       "      <td>104236.84</td>\n",
       "      <td>Male</td>\n",
       "      <td>23.6</td>\n",
       "    </tr>\n",
       "  </tbody>\n",
       "</table>\n",
       "</div>"
      ],
      "text/plain": [
       "  Employee_ID        Name   Age Department     Salary Gender  Experience_Years\n",
       "0       E0001  Employee_1  52.0    Finance   76330.58   Male              14.5\n",
       "1       E0002  Employee_2  31.0      Admin   31891.90   Male               5.2\n",
       "2       E0003  Employee_3  33.0         HR  104236.84   Male              23.6"
      ]
     },
     "execution_count": 26,
     "metadata": {},
     "output_type": "execute_result"
    }
   ],
   "source": [
    "df=df.dropna()\n",
    "df.head(3)"
   ]
  },
  {
   "cell_type": "code",
   "execution_count": 27,
   "id": "756321b1-bcdb-48d5-b52f-769ef1b1b9b6",
   "metadata": {},
   "outputs": [
    {
     "data": {
      "text/plain": [
       "Employee_ID         0\n",
       "Name                0\n",
       "Age                 0\n",
       "Department          0\n",
       "Salary              0\n",
       "Gender              0\n",
       "Experience_Years    0\n",
       "dtype: int64"
      ]
     },
     "execution_count": 27,
     "metadata": {},
     "output_type": "execute_result"
    }
   ],
   "source": [
    "df.isnull().sum()"
   ]
  },
  {
   "cell_type": "code",
   "execution_count": null,
   "id": "b06fc0cb-b892-4c20-b04d-c5ab65fc8699",
   "metadata": {},
   "outputs": [],
   "source": []
  },
  {
   "cell_type": "markdown",
   "id": "62265aa8-54eb-413a-91de-4cf12ae734d8",
   "metadata": {},
   "source": [
    "Plotting after removing null values"
   ]
  },
  {
   "cell_type": "code",
   "execution_count": 28,
   "id": "c7c21d1f-c4f3-4f12-888e-928e3c35e499",
   "metadata": {},
   "outputs": [
    {
     "data": {
      "image/png": "[encoded data removed]",
      "text/plain": [
       "<Figure size 640x480 with 2 Axes>"
      ]
     },
     "metadata": {},
     "output_type": "display_data"
    }
   ],
   "source": [
    "sns.heatmap(df.isnull())\n",
    "plt.show()"
   ]
  },
  {
   "cell_type": "code",
   "execution_count": null,
   "id": "522a5dca-bc04-4b5d-aed6-338a8d25ce03",
   "metadata": {},
   "outputs": [],
   "source": []
  },
  {
   "cell_type": "code",
   "execution_count": 29,
   "id": "e34c81ec-e23e-4f79-ab61-ebeb6853e513",
   "metadata": {},
   "outputs": [
    {
     "data": {
      "text/html": [
       "<div>\n",
       "<style scoped>\n",
       "    .dataframe tbody tr th:only-of-type {\n",
       "        vertical-align: middle;\n",
       "    }\n",
       "\n",
       "    .dataframe tbody tr th {\n",
       "        vertical-align: top;\n",
       "    }\n",
       "\n",
       "    .dataframe thead th {\n",
       "        text-align: right;\n",
       "    }\n",
       "</style>\n",
       "<table border=\"1\" class=\"dataframe\">\n",
       "  <thead>\n",
       "    <tr style=\"text-align: right;\">\n",
       "      <th></th>\n",
       "      <th>Employee_ID</th>\n",
       "      <th>Name</th>\n",
       "      <th>Age</th>\n",
       "      <th>Department</th>\n",
       "      <th>Salary</th>\n",
       "      <th>Gender</th>\n",
       "      <th>Experience_Years</th>\n",
       "    </tr>\n",
       "  </thead>\n",
       "  <tbody>\n",
       "    <tr>\n",
       "      <th>0</th>\n",
       "      <td>E0001</td>\n",
       "      <td>Employee_1</td>\n",
       "      <td>52.0</td>\n",
       "      <td>Finance</td>\n",
       "      <td>76330.58</td>\n",
       "      <td>Male</td>\n",
       "      <td>14.5</td>\n",
       "    </tr>\n",
       "    <tr>\n",
       "      <th>1</th>\n",
       "      <td>E0002</td>\n",
       "      <td>Employee_2</td>\n",
       "      <td>31.0</td>\n",
       "      <td>Admin</td>\n",
       "      <td>31891.90</td>\n",
       "      <td>Male</td>\n",
       "      <td>5.2</td>\n",
       "    </tr>\n",
       "    <tr>\n",
       "      <th>2</th>\n",
       "      <td>E0003</td>\n",
       "      <td>Employee_3</td>\n",
       "      <td>33.0</td>\n",
       "      <td>HR</td>\n",
       "      <td>104236.84</td>\n",
       "      <td>Male</td>\n",
       "      <td>23.6</td>\n",
       "    </tr>\n",
       "  </tbody>\n",
       "</table>\n",
       "</div>"
      ],
      "text/plain": [
       "  Employee_ID        Name   Age Department     Salary Gender  Experience_Years\n",
       "0       E0001  Employee_1  52.0    Finance   76330.58   Male              14.5\n",
       "1       E0002  Employee_2  31.0      Admin   31891.90   Male               5.2\n",
       "2       E0003  Employee_3  33.0         HR  104236.84   Male              23.6"
      ]
     },
     "execution_count": 29,
     "metadata": {},
     "output_type": "execute_result"
    }
   ],
   "source": [
    "df.head(3)"
   ]
  },
  {
   "cell_type": "markdown",
   "id": "f3e20077-d322-4c09-ab2e-3bec116ed060",
   "metadata": {},
   "source": [
    "# Encoding"
   ]
  },
  {
   "cell_type": "code",
   "execution_count": 30,
   "id": "ebb1388d-e6b6-46e3-949c-31e72ea5caf6",
   "metadata": {},
   "outputs": [
    {
     "data": {
      "text/plain": [
       "array(['Finance', 'Admin', 'HR', 'Marketing', 'IT'], dtype=object)"
      ]
     },
     "execution_count": 30,
     "metadata": {},
     "output_type": "execute_result"
    }
   ],
   "source": [
    "df['Department'].unique()"
   ]
  },
  {
   "cell_type": "markdown",
   "id": "55f76e17-3eef-4d26-b874-3bfb7e7a775c",
   "metadata": {},
   "source": [
    "Using Map"
   ]
  },
  {
   "cell_type": "code",
   "execution_count": 31,
   "id": "95b2a629-8428-4158-a95a-7635bfdb8b97",
   "metadata": {},
   "outputs": [],
   "source": [
    "df.loc[:,'Department']=df['Department'].map({\n",
    "    'Admin':1,\n",
    "    'HR':2,\n",
    "    'Finance':3,\n",
    "    'Marketing':4,\n",
    "    'IT':5\n",
    "})"
   ]
  },
  {
   "cell_type": "code",
   "execution_count": 32,
   "id": "653ee539-77cf-4d83-876e-9e419544a83c",
   "metadata": {},
   "outputs": [
    {
     "data": {
      "text/html": [
       "<div>\n",
       "<style scoped>\n",
       "    .dataframe tbody tr th:only-of-type {\n",
       "        vertical-align: middle;\n",
       "    }\n",
       "\n",
       "    .dataframe tbody tr th {\n",
       "        vertical-align: top;\n",
       "    }\n",
       "\n",
       "    .dataframe thead th {\n",
       "        text-align: right;\n",
       "    }\n",
       "</style>\n",
       "<table border=\"1\" class=\"dataframe\">\n",
       "  <thead>\n",
       "    <tr style=\"text-align: right;\">\n",
       "      <th></th>\n",
       "      <th>Employee_ID</th>\n",
       "      <th>Name</th>\n",
       "      <th>Age</th>\n",
       "      <th>Department</th>\n",
       "      <th>Salary</th>\n",
       "      <th>Gender</th>\n",
       "      <th>Experience_Years</th>\n",
       "    </tr>\n",
       "  </thead>\n",
       "  <tbody>\n",
       "    <tr>\n",
       "      <th>0</th>\n",
       "      <td>E0001</td>\n",
       "      <td>Employee_1</td>\n",
       "      <td>52.0</td>\n",
       "      <td>3</td>\n",
       "      <td>76330.58</td>\n",
       "      <td>Male</td>\n",
       "      <td>14.5</td>\n",
       "    </tr>\n",
       "    <tr>\n",
       "      <th>1</th>\n",
       "      <td>E0002</td>\n",
       "      <td>Employee_2</td>\n",
       "      <td>31.0</td>\n",
       "      <td>1</td>\n",
       "      <td>31891.90</td>\n",
       "      <td>Male</td>\n",
       "      <td>5.2</td>\n",
       "    </tr>\n",
       "    <tr>\n",
       "      <th>2</th>\n",
       "      <td>E0003</td>\n",
       "      <td>Employee_3</td>\n",
       "      <td>33.0</td>\n",
       "      <td>2</td>\n",
       "      <td>104236.84</td>\n",
       "      <td>Male</td>\n",
       "      <td>23.6</td>\n",
       "    </tr>\n",
       "  </tbody>\n",
       "</table>\n",
       "</div>"
      ],
      "text/plain": [
       "  Employee_ID        Name   Age Department     Salary Gender  Experience_Years\n",
       "0       E0001  Employee_1  52.0          3   76330.58   Male              14.5\n",
       "1       E0002  Employee_2  31.0          1   31891.90   Male               5.2\n",
       "2       E0003  Employee_3  33.0          2  104236.84   Male              23.6"
      ]
     },
     "execution_count": 32,
     "metadata": {},
     "output_type": "execute_result"
    }
   ],
   "source": [
    "df.head(3)"
   ]
  },
  {
   "cell_type": "code",
   "execution_count": 33,
   "id": "a884c437-02ad-4eab-bbc7-25e22c4f9820",
   "metadata": {},
   "outputs": [
    {
     "data": {
      "text/plain": [
       "array(['Male', 'Female', 'Non-binary'], dtype=object)"
      ]
     },
     "execution_count": 33,
     "metadata": {},
     "output_type": "execute_result"
    }
   ],
   "source": [
    "df['Gender'].unique()"
   ]
  },
  {
   "cell_type": "markdown",
   "id": "6f09d324-4a6a-42f0-aa3c-13de3e980e45",
   "metadata": {},
   "source": [
    "Using get dummies"
   ]
  },
  {
   "cell_type": "code",
   "execution_count": 34,
   "id": "768fd5c5-b6b7-4191-bff7-dd96a2691928",
   "metadata": {},
   "outputs": [],
   "source": [
    "df=pd.get_dummies(df,columns=['Gender'])"
   ]
  },
  {
   "cell_type": "code",
   "execution_count": 35,
   "id": "40767a23-7a4e-4b2e-b734-471c2f47a1b9",
   "metadata": {},
   "outputs": [
    {
     "data": {
      "text/html": [
       "<div>\n",
       "<style scoped>\n",
       "    .dataframe tbody tr th:only-of-type {\n",
       "        vertical-align: middle;\n",
       "    }\n",
       "\n",
       "    .dataframe tbody tr th {\n",
       "        vertical-align: top;\n",
       "    }\n",
       "\n",
       "    .dataframe thead th {\n",
       "        text-align: right;\n",
       "    }\n",
       "</style>\n",
       "<table border=\"1\" class=\"dataframe\">\n",
       "  <thead>\n",
       "    <tr style=\"text-align: right;\">\n",
       "      <th></th>\n",
       "      <th>Employee_ID</th>\n",
       "      <th>Name</th>\n",
       "      <th>Age</th>\n",
       "      <th>Department</th>\n",
       "      <th>Salary</th>\n",
       "      <th>Experience_Years</th>\n",
       "      <th>Gender_Female</th>\n",
       "      <th>Gender_Male</th>\n",
       "      <th>Gender_Non-binary</th>\n",
       "    </tr>\n",
       "  </thead>\n",
       "  <tbody>\n",
       "    <tr>\n",
       "      <th>0</th>\n",
       "      <td>E0001</td>\n",
       "      <td>Employee_1</td>\n",
       "      <td>52.0</td>\n",
       "      <td>3</td>\n",
       "      <td>76330.58</td>\n",
       "      <td>14.5</td>\n",
       "      <td>False</td>\n",
       "      <td>True</td>\n",
       "      <td>False</td>\n",
       "    </tr>\n",
       "    <tr>\n",
       "      <th>1</th>\n",
       "      <td>E0002</td>\n",
       "      <td>Employee_2</td>\n",
       "      <td>31.0</td>\n",
       "      <td>1</td>\n",
       "      <td>31891.90</td>\n",
       "      <td>5.2</td>\n",
       "      <td>False</td>\n",
       "      <td>True</td>\n",
       "      <td>False</td>\n",
       "    </tr>\n",
       "    <tr>\n",
       "      <th>2</th>\n",
       "      <td>E0003</td>\n",
       "      <td>Employee_3</td>\n",
       "      <td>33.0</td>\n",
       "      <td>2</td>\n",
       "      <td>104236.84</td>\n",
       "      <td>23.6</td>\n",
       "      <td>False</td>\n",
       "      <td>True</td>\n",
       "      <td>False</td>\n",
       "    </tr>\n",
       "  </tbody>\n",
       "</table>\n",
       "</div>"
      ],
      "text/plain": [
       "  Employee_ID        Name   Age Department     Salary  Experience_Years  \\\n",
       "0       E0001  Employee_1  52.0          3   76330.58              14.5   \n",
       "1       E0002  Employee_2  31.0          1   31891.90               5.2   \n",
       "2       E0003  Employee_3  33.0          2  104236.84              23.6   \n",
       "\n",
       "   Gender_Female  Gender_Male  Gender_Non-binary  \n",
       "0          False         True              False  \n",
       "1          False         True              False  \n",
       "2          False         True              False  "
      ]
     },
     "execution_count": 35,
     "metadata": {},
     "output_type": "execute_result"
    }
   ],
   "source": [
    "df.head(3)"
   ]
  },
  {
   "cell_type": "code",
   "execution_count": null,
   "id": "4b9f451f-a7fb-4b1f-af38-e70509057998",
   "metadata": {},
   "outputs": [],
   "source": []
  },
  {
   "cell_type": "markdown",
   "id": "1022d921-8d2b-4d7c-b869-3a8d96ac6101",
   "metadata": {},
   "source": [
    "# Outlier Removal"
   ]
  },
  {
   "cell_type": "code",
   "execution_count": 36,
   "id": "b99ca689-81cf-48ff-beda-f38906a707c4",
   "metadata": {},
   "outputs": [
    {
     "data": {
      "text/html": [
       "<div>\n",
       "<style scoped>\n",
       "    .dataframe tbody tr th:only-of-type {\n",
       "        vertical-align: middle;\n",
       "    }\n",
       "\n",
       "    .dataframe tbody tr th {\n",
       "        vertical-align: top;\n",
       "    }\n",
       "\n",
       "    .dataframe thead th {\n",
       "        text-align: right;\n",
       "    }\n",
       "</style>\n",
       "<table border=\"1\" class=\"dataframe\">\n",
       "  <thead>\n",
       "    <tr style=\"text-align: right;\">\n",
       "      <th></th>\n",
       "      <th>Age</th>\n",
       "      <th>Salary</th>\n",
       "      <th>Experience_Years</th>\n",
       "    </tr>\n",
       "  </thead>\n",
       "  <tbody>\n",
       "    <tr>\n",
       "      <th>count</th>\n",
       "      <td>846.000000</td>\n",
       "      <td>846.000000</td>\n",
       "      <td>846.000000</td>\n",
       "    </tr>\n",
       "    <tr>\n",
       "      <th>mean</th>\n",
       "      <td>38.235313</td>\n",
       "      <td>75032.056489</td>\n",
       "      <td>16.799173</td>\n",
       "    </tr>\n",
       "    <tr>\n",
       "      <th>std</th>\n",
       "      <td>11.452430</td>\n",
       "      <td>25342.702556</td>\n",
       "      <td>12.345439</td>\n",
       "    </tr>\n",
       "    <tr>\n",
       "      <th>min</th>\n",
       "      <td>18.000000</td>\n",
       "      <td>30083.650000</td>\n",
       "      <td>-2.000000</td>\n",
       "    </tr>\n",
       "    <tr>\n",
       "      <th>25%</th>\n",
       "      <td>29.000000</td>\n",
       "      <td>53682.785000</td>\n",
       "      <td>5.525000</td>\n",
       "    </tr>\n",
       "    <tr>\n",
       "      <th>50%</th>\n",
       "      <td>38.298507</td>\n",
       "      <td>76330.580000</td>\n",
       "      <td>16.850000</td>\n",
       "    </tr>\n",
       "    <tr>\n",
       "      <th>75%</th>\n",
       "      <td>47.000000</td>\n",
       "      <td>94988.242500</td>\n",
       "      <td>27.600000</td>\n",
       "    </tr>\n",
       "    <tr>\n",
       "      <th>max</th>\n",
       "      <td>59.000000</td>\n",
       "      <td>119914.450000</td>\n",
       "      <td>40.000000</td>\n",
       "    </tr>\n",
       "  </tbody>\n",
       "</table>\n",
       "</div>"
      ],
      "text/plain": [
       "              Age         Salary  Experience_Years\n",
       "count  846.000000     846.000000        846.000000\n",
       "mean    38.235313   75032.056489         16.799173\n",
       "std     11.452430   25342.702556         12.345439\n",
       "min     18.000000   30083.650000         -2.000000\n",
       "25%     29.000000   53682.785000          5.525000\n",
       "50%     38.298507   76330.580000         16.850000\n",
       "75%     47.000000   94988.242500         27.600000\n",
       "max     59.000000  119914.450000         40.000000"
      ]
     },
     "execution_count": 36,
     "metadata": {},
     "output_type": "execute_result"
    }
   ],
   "source": [
    "df.describe()"
   ]
  },
  {
   "cell_type": "markdown",
   "id": "2cacca8f-ba4b-492f-bcac-84b79586a69c",
   "metadata": {},
   "source": [
    "In Experience Years the min value is -2 that is outlier so we will remove experience year less than 0"
   ]
  },
  {
   "cell_type": "code",
   "execution_count": 37,
   "id": "1f917663-0443-406e-b76e-8754bbd9ddf5",
   "metadata": {},
   "outputs": [
    {
     "data": {
      "text/plain": [
       "(846, 9)"
      ]
     },
     "execution_count": 37,
     "metadata": {},
     "output_type": "execute_result"
    }
   ],
   "source": [
    "df.shape"
   ]
  },
  {
   "cell_type": "code",
   "execution_count": 38,
   "id": "172d24af-1239-4986-a5df-719392bb2649",
   "metadata": {},
   "outputs": [
    {
     "data": {
      "text/plain": [
       "(818, 9)"
      ]
     },
     "execution_count": 38,
     "metadata": {},
     "output_type": "execute_result"
    }
   ],
   "source": [
    "df=df[df['Experience_Years']>=0]\n",
    "df.shape"
   ]
  },
  {
   "cell_type": "code",
   "execution_count": 39,
   "id": "1b927855-15d6-4b5e-b856-e14ae39f58b0",
   "metadata": {},
   "outputs": [
    {
     "data": {
      "text/html": [
       "<div>\n",
       "<style scoped>\n",
       "    .dataframe tbody tr th:only-of-type {\n",
       "        vertical-align: middle;\n",
       "    }\n",
       "\n",
       "    .dataframe tbody tr th {\n",
       "        vertical-align: top;\n",
       "    }\n",
       "\n",
       "    .dataframe thead th {\n",
       "        text-align: right;\n",
       "    }\n",
       "</style>\n",
       "<table border=\"1\" class=\"dataframe\">\n",
       "  <thead>\n",
       "    <tr style=\"text-align: right;\">\n",
       "      <th></th>\n",
       "      <th>Age</th>\n",
       "      <th>Salary</th>\n",
       "      <th>Experience_Years</th>\n",
       "    </tr>\n",
       "  </thead>\n",
       "  <tbody>\n",
       "    <tr>\n",
       "      <th>count</th>\n",
       "      <td>818.000000</td>\n",
       "      <td>818.000000</td>\n",
       "      <td>818.000000</td>\n",
       "    </tr>\n",
       "    <tr>\n",
       "      <th>mean</th>\n",
       "      <td>38.202295</td>\n",
       "      <td>75019.988521</td>\n",
       "      <td>17.411125</td>\n",
       "    </tr>\n",
       "    <tr>\n",
       "      <th>std</th>\n",
       "      <td>11.439631</td>\n",
       "      <td>25274.298336</td>\n",
       "      <td>12.095158</td>\n",
       "    </tr>\n",
       "    <tr>\n",
       "      <th>min</th>\n",
       "      <td>18.000000</td>\n",
       "      <td>30083.650000</td>\n",
       "      <td>0.000000</td>\n",
       "    </tr>\n",
       "    <tr>\n",
       "      <th>25%</th>\n",
       "      <td>29.000000</td>\n",
       "      <td>53885.352500</td>\n",
       "      <td>6.550000</td>\n",
       "    </tr>\n",
       "    <tr>\n",
       "      <th>50%</th>\n",
       "      <td>38.298507</td>\n",
       "      <td>76330.580000</td>\n",
       "      <td>17.350000</td>\n",
       "    </tr>\n",
       "    <tr>\n",
       "      <th>75%</th>\n",
       "      <td>47.000000</td>\n",
       "      <td>94988.242500</td>\n",
       "      <td>27.950000</td>\n",
       "    </tr>\n",
       "    <tr>\n",
       "      <th>max</th>\n",
       "      <td>59.000000</td>\n",
       "      <td>119914.450000</td>\n",
       "      <td>40.000000</td>\n",
       "    </tr>\n",
       "  </tbody>\n",
       "</table>\n",
       "</div>"
      ],
      "text/plain": [
       "              Age         Salary  Experience_Years\n",
       "count  818.000000     818.000000        818.000000\n",
       "mean    38.202295   75019.988521         17.411125\n",
       "std     11.439631   25274.298336         12.095158\n",
       "min     18.000000   30083.650000          0.000000\n",
       "25%     29.000000   53885.352500          6.550000\n",
       "50%     38.298507   76330.580000         17.350000\n",
       "75%     47.000000   94988.242500         27.950000\n",
       "max     59.000000  119914.450000         40.000000"
      ]
     },
     "execution_count": 39,
     "metadata": {},
     "output_type": "execute_result"
    }
   ],
   "source": [
    "df.describe()"
   ]
  },
  {
   "cell_type": "code",
   "execution_count": null,
   "id": "1abdb9f7-1994-4762-acc0-abef89c2f52b",
   "metadata": {},
   "outputs": [],
   "source": []
  },
  {
   "cell_type": "markdown",
   "id": "a91b561a-3e9c-48f0-9779-0ed196ea7d9b",
   "metadata": {},
   "source": [
    "# In Age ans Salary we have no outliers but for practice purpose i am doing here.."
   ]
  },
  {
   "cell_type": "code",
   "execution_count": 40,
   "id": "1a101b3d-793e-4685-bac0-ff98099bcc56",
   "metadata": {},
   "outputs": [
    {
     "data": {
      "image/png": "[encoded data removed]",
      "text/plain": [
       "<Figure size 640x480 with 1 Axes>"
      ]
     },
     "metadata": {},
     "output_type": "display_data"
    }
   ],
   "source": [
    "sns.boxplot(df['Age'])\n",
    "plt.show()"
   ]
  },
  {
   "cell_type": "markdown",
   "id": "8baf5131-f52b-4359-bb84-bd2b3051679a",
   "metadata": {},
   "source": [
    "Using IQR method"
   ]
  },
  {
   "cell_type": "code",
   "execution_count": 41,
   "id": "9f99cc6e-ead0-44b4-ad12-72c5f8374715",
   "metadata": {},
   "outputs": [
    {
     "data": {
      "text/plain": [
       "(29.0, 47.0)"
      ]
     },
     "execution_count": 41,
     "metadata": {},
     "output_type": "execute_result"
    }
   ],
   "source": [
    "Q1=df['Age'].quantile(0.25)\n",
    "Q3=df['Age'].quantile(.75)\n",
    "Q1,Q3"
   ]
  },
  {
   "cell_type": "code",
   "execution_count": 42,
   "id": "c1477ab4-0d90-4be6-9f43-b5cd43915b5f",
   "metadata": {},
   "outputs": [
    {
     "data": {
      "text/plain": [
       "18.0"
      ]
     },
     "execution_count": 42,
     "metadata": {},
     "output_type": "execute_result"
    }
   ],
   "source": [
    "IQR=Q3-Q1\n",
    "IQR"
   ]
  },
  {
   "cell_type": "code",
   "execution_count": 43,
   "id": "a1f00d3f-df48-4f09-9bbe-c3760cf8ee57",
   "metadata": {},
   "outputs": [
    {
     "data": {
      "text/plain": [
       "(2.0, 74.0)"
      ]
     },
     "execution_count": 43,
     "metadata": {},
     "output_type": "execute_result"
    }
   ],
   "source": [
    "min_range=Q1-(1.5*IQR)\n",
    "max_range=Q3+(1.5*IQR)\n",
    "\n",
    "min_range,max_range"
   ]
  },
  {
   "cell_type": "code",
   "execution_count": 44,
   "id": "6b4349b5-958e-44d8-8b51-a728c6fa2fc7",
   "metadata": {},
   "outputs": [
    {
     "data": {
      "text/plain": [
       "(818, 9)"
      ]
     },
     "execution_count": 44,
     "metadata": {},
     "output_type": "execute_result"
    }
   ],
   "source": [
    "df=df[(df['Age']>=min_range) & (df['Age']<=max_range)]\n",
    "df.shape"
   ]
  },
  {
   "cell_type": "code",
   "execution_count": null,
   "id": "b7b330ee-3a36-463c-9a11-895070889630",
   "metadata": {},
   "outputs": [],
   "source": []
  },
  {
   "cell_type": "code",
   "execution_count": 45,
   "id": "772246e5-39ab-4d5a-af5a-018807e5c1a4",
   "metadata": {},
   "outputs": [
    {
     "data": {
      "image/png": "[encoded data removed]",
      "text/plain": [
       "<Figure size 640x480 with 1 Axes>"
      ]
     },
     "metadata": {},
     "output_type": "display_data"
    }
   ],
   "source": [
    "sns.boxplot(df['Salary'])\n",
    "plt.show()"
   ]
  },
  {
   "cell_type": "markdown",
   "id": "f91d58e0-08b6-4c63-95e6-036f7b6c2e4f",
   "metadata": {},
   "source": [
    "Using Z-score"
   ]
  },
  {
   "cell_type": "code",
   "execution_count": 46,
   "id": "52ff860c-ef59-4535-8038-c14a7b054788",
   "metadata": {},
   "outputs": [
    {
     "data": {
      "text/html": [
       "<div>\n",
       "<style scoped>\n",
       "    .dataframe tbody tr th:only-of-type {\n",
       "        vertical-align: middle;\n",
       "    }\n",
       "\n",
       "    .dataframe tbody tr th {\n",
       "        vertical-align: top;\n",
       "    }\n",
       "\n",
       "    .dataframe thead th {\n",
       "        text-align: right;\n",
       "    }\n",
       "</style>\n",
       "<table border=\"1\" class=\"dataframe\">\n",
       "  <thead>\n",
       "    <tr style=\"text-align: right;\">\n",
       "      <th></th>\n",
       "      <th>Employee_ID</th>\n",
       "      <th>Name</th>\n",
       "      <th>Age</th>\n",
       "      <th>Department</th>\n",
       "      <th>Salary</th>\n",
       "      <th>Experience_Years</th>\n",
       "      <th>Gender_Female</th>\n",
       "      <th>Gender_Male</th>\n",
       "      <th>Gender_Non-binary</th>\n",
       "      <th>Salary_zscore</th>\n",
       "    </tr>\n",
       "  </thead>\n",
       "  <tbody>\n",
       "    <tr>\n",
       "      <th>0</th>\n",
       "      <td>E0001</td>\n",
       "      <td>Employee_1</td>\n",
       "      <td>52.0</td>\n",
       "      <td>3</td>\n",
       "      <td>76330.58</td>\n",
       "      <td>14.5</td>\n",
       "      <td>False</td>\n",
       "      <td>True</td>\n",
       "      <td>False</td>\n",
       "      <td>0.051855</td>\n",
       "    </tr>\n",
       "    <tr>\n",
       "      <th>1</th>\n",
       "      <td>E0002</td>\n",
       "      <td>Employee_2</td>\n",
       "      <td>31.0</td>\n",
       "      <td>1</td>\n",
       "      <td>31891.90</td>\n",
       "      <td>5.2</td>\n",
       "      <td>False</td>\n",
       "      <td>True</td>\n",
       "      <td>False</td>\n",
       "      <td>-1.706401</td>\n",
       "    </tr>\n",
       "    <tr>\n",
       "      <th>2</th>\n",
       "      <td>E0003</td>\n",
       "      <td>Employee_3</td>\n",
       "      <td>33.0</td>\n",
       "      <td>2</td>\n",
       "      <td>104236.84</td>\n",
       "      <td>23.6</td>\n",
       "      <td>False</td>\n",
       "      <td>True</td>\n",
       "      <td>False</td>\n",
       "      <td>1.155991</td>\n",
       "    </tr>\n",
       "  </tbody>\n",
       "</table>\n",
       "</div>"
      ],
      "text/plain": [
       "  Employee_ID        Name   Age Department     Salary  Experience_Years  \\\n",
       "0       E0001  Employee_1  52.0          3   76330.58              14.5   \n",
       "1       E0002  Employee_2  31.0          1   31891.90               5.2   \n",
       "2       E0003  Employee_3  33.0          2  104236.84              23.6   \n",
       "\n",
       "   Gender_Female  Gender_Male  Gender_Non-binary  Salary_zscore  \n",
       "0          False         True              False       0.051855  \n",
       "1          False         True              False      -1.706401  \n",
       "2          False         True              False       1.155991  "
      ]
     },
     "execution_count": 46,
     "metadata": {},
     "output_type": "execute_result"
    }
   ],
   "source": [
    "df['Salary_zscore']=(df['Salary']-df['Salary'].mean())/df['Salary'].std()\n",
    "df.head(3)"
   ]
  },
  {
   "cell_type": "code",
   "execution_count": 47,
   "id": "38dee8a8-3e38-4fc6-8d35-f97befff0a93",
   "metadata": {},
   "outputs": [
    {
     "data": {
      "text/html": [
       "<div>\n",
       "<style scoped>\n",
       "    .dataframe tbody tr th:only-of-type {\n",
       "        vertical-align: middle;\n",
       "    }\n",
       "\n",
       "    .dataframe tbody tr th {\n",
       "        vertical-align: top;\n",
       "    }\n",
       "\n",
       "    .dataframe thead th {\n",
       "        text-align: right;\n",
       "    }\n",
       "</style>\n",
       "<table border=\"1\" class=\"dataframe\">\n",
       "  <thead>\n",
       "    <tr style=\"text-align: right;\">\n",
       "      <th></th>\n",
       "      <th>Employee_ID</th>\n",
       "      <th>Name</th>\n",
       "      <th>Age</th>\n",
       "      <th>Department</th>\n",
       "      <th>Salary</th>\n",
       "      <th>Experience_Years</th>\n",
       "      <th>Gender_Female</th>\n",
       "      <th>Gender_Male</th>\n",
       "      <th>Gender_Non-binary</th>\n",
       "    </tr>\n",
       "  </thead>\n",
       "  <tbody>\n",
       "    <tr>\n",
       "      <th>0</th>\n",
       "      <td>E0001</td>\n",
       "      <td>Employee_1</td>\n",
       "      <td>52.0</td>\n",
       "      <td>3</td>\n",
       "      <td>76330.58</td>\n",
       "      <td>14.5</td>\n",
       "      <td>False</td>\n",
       "      <td>True</td>\n",
       "      <td>False</td>\n",
       "    </tr>\n",
       "    <tr>\n",
       "      <th>1</th>\n",
       "      <td>E0002</td>\n",
       "      <td>Employee_2</td>\n",
       "      <td>31.0</td>\n",
       "      <td>1</td>\n",
       "      <td>31891.90</td>\n",
       "      <td>5.2</td>\n",
       "      <td>False</td>\n",
       "      <td>True</td>\n",
       "      <td>False</td>\n",
       "    </tr>\n",
       "    <tr>\n",
       "      <th>2</th>\n",
       "      <td>E0003</td>\n",
       "      <td>Employee_3</td>\n",
       "      <td>33.0</td>\n",
       "      <td>2</td>\n",
       "      <td>104236.84</td>\n",
       "      <td>23.6</td>\n",
       "      <td>False</td>\n",
       "      <td>True</td>\n",
       "      <td>False</td>\n",
       "    </tr>\n",
       "  </tbody>\n",
       "</table>\n",
       "</div>"
      ],
      "text/plain": [
       "  Employee_ID        Name   Age Department     Salary  Experience_Years  \\\n",
       "0       E0001  Employee_1  52.0          3   76330.58              14.5   \n",
       "1       E0002  Employee_2  31.0          1   31891.90               5.2   \n",
       "2       E0003  Employee_3  33.0          2  104236.84              23.6   \n",
       "\n",
       "   Gender_Female  Gender_Male  Gender_Non-binary  \n",
       "0          False         True              False  \n",
       "1          False         True              False  \n",
       "2          False         True              False  "
      ]
     },
     "execution_count": 47,
     "metadata": {},
     "output_type": "execute_result"
    }
   ],
   "source": [
    "# df = df[(df['Salary_zscore']>=-3) & (df['Salary_zscore']<=3)]\n",
    "df=df[df['Salary_zscore'].abs()<3]\n",
    "df.drop(columns=['Salary_zscore'],inplace=True)\n",
    "df.head(3)"
   ]
  },
  {
   "cell_type": "code",
   "execution_count": 48,
   "id": "be2ed4d5-274c-44b9-bbe0-d052c428841c",
   "metadata": {},
   "outputs": [
    {
     "data": {
      "text/plain": [
       "(818, 9)"
      ]
     },
     "execution_count": 48,
     "metadata": {},
     "output_type": "execute_result"
    }
   ],
   "source": [
    "df.shape"
   ]
  },
  {
   "cell_type": "code",
   "execution_count": null,
   "id": "0b408bd7-72e6-4e9f-ad83-0ef4b22e7cc4",
   "metadata": {},
   "outputs": [],
   "source": []
  },
  {
   "cell_type": "markdown",
   "id": "b7f60412-5c14-4845-a126-6a0f03afca3a",
   "metadata": {},
   "source": [
    "# Feature Scaling"
   ]
  },
  {
   "cell_type": "markdown",
   "id": "85845eda-746f-4797-bd8a-1bbd5e5c67a5",
   "metadata": {},
   "source": [
    "Standralization"
   ]
  },
  {
   "cell_type": "code",
   "execution_count": 49,
   "id": "0d558df8-bc55-48b6-81a5-e6419060cb16",
   "metadata": {},
   "outputs": [
    {
     "data": {
      "image/png": "[encoded data removed]",
      "text/plain": [
       "<Figure size 500x500 with 1 Axes>"
      ]
     },
     "metadata": {},
     "output_type": "display_data"
    }
   ],
   "source": [
    "sns.displot(df['Salary'],kde=True)\n",
    "plt.show()"
   ]
  },
  {
   "cell_type": "code",
   "execution_count": 50,
   "id": "c85c4c14-93bc-40d8-a804-3512817c6e40",
   "metadata": {},
   "outputs": [],
   "source": [
    "from sklearn.preprocessing import StandardScaler"
   ]
  },
  {
   "cell_type": "code",
   "execution_count": 51,
   "id": "0aee9f1b-d600-43d6-929f-4e57da46c74f",
   "metadata": {},
   "outputs": [
    {
     "data": {
      "text/html": [
       "<div>\n",
       "<style scoped>\n",
       "    .dataframe tbody tr th:only-of-type {\n",
       "        vertical-align: middle;\n",
       "    }\n",
       "\n",
       "    .dataframe tbody tr th {\n",
       "        vertical-align: top;\n",
       "    }\n",
       "\n",
       "    .dataframe thead th {\n",
       "        text-align: right;\n",
       "    }\n",
       "</style>\n",
       "<table border=\"1\" class=\"dataframe\">\n",
       "  <thead>\n",
       "    <tr style=\"text-align: right;\">\n",
       "      <th></th>\n",
       "      <th>Employee_ID</th>\n",
       "      <th>Name</th>\n",
       "      <th>Age</th>\n",
       "      <th>Department</th>\n",
       "      <th>Salary</th>\n",
       "      <th>Experience_Years</th>\n",
       "      <th>Gender_Female</th>\n",
       "      <th>Gender_Male</th>\n",
       "      <th>Gender_Non-binary</th>\n",
       "    </tr>\n",
       "  </thead>\n",
       "  <tbody>\n",
       "    <tr>\n",
       "      <th>0</th>\n",
       "      <td>E0001</td>\n",
       "      <td>Employee_1</td>\n",
       "      <td>52.0</td>\n",
       "      <td>3</td>\n",
       "      <td>0.051886</td>\n",
       "      <td>14.5</td>\n",
       "      <td>False</td>\n",
       "      <td>True</td>\n",
       "      <td>False</td>\n",
       "    </tr>\n",
       "    <tr>\n",
       "      <th>1</th>\n",
       "      <td>E0002</td>\n",
       "      <td>Employee_2</td>\n",
       "      <td>31.0</td>\n",
       "      <td>1</td>\n",
       "      <td>-1.707445</td>\n",
       "      <td>5.2</td>\n",
       "      <td>False</td>\n",
       "      <td>True</td>\n",
       "      <td>False</td>\n",
       "    </tr>\n",
       "    <tr>\n",
       "      <th>2</th>\n",
       "      <td>E0003</td>\n",
       "      <td>Employee_3</td>\n",
       "      <td>33.0</td>\n",
       "      <td>2</td>\n",
       "      <td>1.156698</td>\n",
       "      <td>23.6</td>\n",
       "      <td>False</td>\n",
       "      <td>True</td>\n",
       "      <td>False</td>\n",
       "    </tr>\n",
       "  </tbody>\n",
       "</table>\n",
       "</div>"
      ],
      "text/plain": [
       "  Employee_ID        Name   Age Department    Salary  Experience_Years  \\\n",
       "0       E0001  Employee_1  52.0          3  0.051886              14.5   \n",
       "1       E0002  Employee_2  31.0          1 -1.707445               5.2   \n",
       "2       E0003  Employee_3  33.0          2  1.156698              23.6   \n",
       "\n",
       "   Gender_Female  Gender_Male  Gender_Non-binary  \n",
       "0          False         True              False  \n",
       "1          False         True              False  \n",
       "2          False         True              False  "
      ]
     },
     "execution_count": 51,
     "metadata": {},
     "output_type": "execute_result"
    }
   ],
   "source": [
    "scaler=StandardScaler()\n",
    "df['Salary']=scaler.fit_transform(df[['Salary']])\n",
    "df.head(3)"
   ]
  },
  {
   "cell_type": "markdown",
   "id": "140f7436-f008-4229-8acd-e1291bfac469",
   "metadata": {},
   "source": [
    "After scaling the data features are as same as before only magnitute reduced"
   ]
  },
  {
   "cell_type": "code",
   "execution_count": 52,
   "id": "af09ce8c-8740-4460-a487-f5223727f767",
   "metadata": {},
   "outputs": [
    {
     "data": {
      "image/png": "[encoded data removed]",
      "text/plain": [
       "<Figure size 500x500 with 1 Axes>"
      ]
     },
     "metadata": {},
     "output_type": "display_data"
    }
   ],
   "source": [
    "sns.displot(df['Salary'],kde=True)\n",
    "plt.show()"
   ]
  },
  {
   "cell_type": "code",
   "execution_count": null,
   "id": "acc06cc8-824c-4483-b73e-af7e3b2485b3",
   "metadata": {},
   "outputs": [],
   "source": []
  },
  {
   "cell_type": "markdown",
   "id": "8086e29f-c0b3-4040-a7c3-fa798132a213",
   "metadata": {},
   "source": [
    "Normalization"
   ]
  },
  {
   "cell_type": "code",
   "execution_count": 53,
   "id": "efca4471-d987-4fe3-ae44-6d5af6386be1",
   "metadata": {},
   "outputs": [
    {
     "data": {
      "image/png": "[encoded data removed]",
      "text/plain": [
       "<Figure size 500x500 with 1 Axes>"
      ]
     },
     "metadata": {},
     "output_type": "display_data"
    }
   ],
   "source": [
    "sns.displot(df['Experience_Years'],kde=True)\n",
    "plt.show()"
   ]
  },
  {
   "cell_type": "code",
   "execution_count": 59,
   "id": "78170d47-2f35-47c4-83a9-e15cc4038c3c",
   "metadata": {},
   "outputs": [],
   "source": [
    "from sklearn.preprocessing import MinMaxScaler "
   ]
  },
  {
   "cell_type": "code",
   "execution_count": 61,
   "id": "9ccb97db-7868-4dd3-8db5-7a0f36470212",
   "metadata": {},
   "outputs": [
    {
     "data": {
      "text/html": [
       "<div>\n",
       "<style scoped>\n",
       "    .dataframe tbody tr th:only-of-type {\n",
       "        vertical-align: middle;\n",
       "    }\n",
       "\n",
       "    .dataframe tbody tr th {\n",
       "        vertical-align: top;\n",
       "    }\n",
       "\n",
       "    .dataframe thead th {\n",
       "        text-align: right;\n",
       "    }\n",
       "</style>\n",
       "<table border=\"1\" class=\"dataframe\">\n",
       "  <thead>\n",
       "    <tr style=\"text-align: right;\">\n",
       "      <th></th>\n",
       "      <th>Employee_ID</th>\n",
       "      <th>Name</th>\n",
       "      <th>Age</th>\n",
       "      <th>Department</th>\n",
       "      <th>Salary</th>\n",
       "      <th>Experience_Years</th>\n",
       "      <th>Gender_Female</th>\n",
       "      <th>Gender_Male</th>\n",
       "      <th>Gender_Non-binary</th>\n",
       "    </tr>\n",
       "  </thead>\n",
       "  <tbody>\n",
       "    <tr>\n",
       "      <th>0</th>\n",
       "      <td>E0001</td>\n",
       "      <td>Employee_1</td>\n",
       "      <td>52.0</td>\n",
       "      <td>3</td>\n",
       "      <td>0.051886</td>\n",
       "      <td>0.3625</td>\n",
       "      <td>False</td>\n",
       "      <td>True</td>\n",
       "      <td>False</td>\n",
       "    </tr>\n",
       "    <tr>\n",
       "      <th>1</th>\n",
       "      <td>E0002</td>\n",
       "      <td>Employee_2</td>\n",
       "      <td>31.0</td>\n",
       "      <td>1</td>\n",
       "      <td>-1.707445</td>\n",
       "      <td>0.1300</td>\n",
       "      <td>False</td>\n",
       "      <td>True</td>\n",
       "      <td>False</td>\n",
       "    </tr>\n",
       "    <tr>\n",
       "      <th>2</th>\n",
       "      <td>E0003</td>\n",
       "      <td>Employee_3</td>\n",
       "      <td>33.0</td>\n",
       "      <td>2</td>\n",
       "      <td>1.156698</td>\n",
       "      <td>0.5900</td>\n",
       "      <td>False</td>\n",
       "      <td>True</td>\n",
       "      <td>False</td>\n",
       "    </tr>\n",
       "  </tbody>\n",
       "</table>\n",
       "</div>"
      ],
      "text/plain": [
       "  Employee_ID        Name   Age Department    Salary  Experience_Years  \\\n",
       "0       E0001  Employee_1  52.0          3  0.051886            0.3625   \n",
       "1       E0002  Employee_2  31.0          1 -1.707445            0.1300   \n",
       "2       E0003  Employee_3  33.0          2  1.156698            0.5900   \n",
       "\n",
       "   Gender_Female  Gender_Male  Gender_Non-binary  \n",
       "0          False         True              False  \n",
       "1          False         True              False  \n",
       "2          False         True              False  "
      ]
     },
     "execution_count": 61,
     "metadata": {},
     "output_type": "execute_result"
    }
   ],
   "source": [
    "scaler1=MinMaxScaler()\n",
    "df['Experience_Years']=scaler1.fit_transform(df[['Experience_Years']])\n",
    "df.head(3)"
   ]
  },
  {
   "cell_type": "code",
   "execution_count": 64,
   "id": "98f85945-244b-4fb9-8cce-1cfcc5df0c4c",
   "metadata": {},
   "outputs": [
    {
     "data": {
      "image/png": "[encoded data removed]",
      "text/plain": [
       "<Figure size 500x500 with 1 Axes>"
      ]
     },
     "metadata": {},
     "output_type": "display_data"
    }
   ],
   "source": [
    "sns.displot(df['Experience_Years'],kde=True)\n",
    "plt.show()"
   ]
  },
  {
   "cell_type": "code",
   "execution_count": null,
   "id": "ba2a8c15-4e02-438b-b62a-a506af1d3a17",
   "metadata": {},
   "outputs": [],
   "source": []
  },
  {
   "cell_type": "markdown",
   "id": "c679dddb-45b8-49f3-b141-29809859edba",
   "metadata": {},
   "source": [
    "# Handling Duplicate"
   ]
  },
  {
   "cell_type": "code",
   "execution_count": 67,
   "id": "08b3da32-2ed3-4025-a1a0-f6ad24f631e6",
   "metadata": {},
   "outputs": [
    {
     "data": {
      "text/plain": [
       "0      False\n",
       "1      False\n",
       "2      False\n",
       "3      False\n",
       "4      False\n",
       "       ...  \n",
       "993    False\n",
       "994    False\n",
       "995    False\n",
       "996    False\n",
       "999    False\n",
       "Length: 818, dtype: bool"
      ]
     },
     "execution_count": 67,
     "metadata": {},
     "output_type": "execute_result"
    }
   ],
   "source": [
    "df.duplicated()"
   ]
  },
  {
   "cell_type": "code",
   "execution_count": 69,
   "id": "11a73447-8946-495b-b39a-72ba8d57339f",
   "metadata": {},
   "outputs": [
    {
     "data": {
      "text/plain": [
       "(818, 9)"
      ]
     },
     "execution_count": 69,
     "metadata": {},
     "output_type": "execute_result"
    }
   ],
   "source": [
    "df.shape"
   ]
  },
  {
   "cell_type": "code",
   "execution_count": 74,
   "id": "c0cdf3b1-336f-4e38-9ae2-16521502f3f7",
   "metadata": {},
   "outputs": [
    {
     "data": {
      "text/plain": [
       "(818, 9)"
      ]
     },
     "execution_count": 74,
     "metadata": {},
     "output_type": "execute_result"
    }
   ],
   "source": [
    "df.drop_duplicates(inplace=True)\n",
    "df.shape"
   ]
  },
  {
   "cell_type": "markdown",
   "id": "9ce8cbfb-a971-4aaf-a738-6d25292e9eb9",
   "metadata": {},
   "source": [
    "There were no duplicates in our dataset."
   ]
  },
  {
   "cell_type": "code",
   "execution_count": null,
   "id": "e347de3a-b435-43d0-859b-13d130cfb9ce",
   "metadata": {},
   "outputs": [],
   "source": []
  },
  {
   "cell_type": "markdown",
   "id": "ca32d456-5bec-4ef3-827f-764c44f0947c",
   "metadata": {},
   "source": [
    "# Final Data"
   ]
  },
  {
   "cell_type": "code",
   "execution_count": 76,
   "id": "3c35778a-2ce5-4a67-be94-dbab392ab991",
   "metadata": {},
   "outputs": [
    {
     "data": {
      "text/html": [
       "<div>\n",
       "<style scoped>\n",
       "    .dataframe tbody tr th:only-of-type {\n",
       "        vertical-align: middle;\n",
       "    }\n",
       "\n",
       "    .dataframe tbody tr th {\n",
       "        vertical-align: top;\n",
       "    }\n",
       "\n",
       "    .dataframe thead th {\n",
       "        text-align: right;\n",
       "    }\n",
       "</style>\n",
       "<table border=\"1\" class=\"dataframe\">\n",
       "  <thead>\n",
       "    <tr style=\"text-align: right;\">\n",
       "      <th></th>\n",
       "      <th>Employee_ID</th>\n",
       "      <th>Name</th>\n",
       "      <th>Age</th>\n",
       "      <th>Department</th>\n",
       "      <th>Salary</th>\n",
       "      <th>Experience_Years</th>\n",
       "      <th>Gender_Female</th>\n",
       "      <th>Gender_Male</th>\n",
       "      <th>Gender_Non-binary</th>\n",
       "    </tr>\n",
       "  </thead>\n",
       "  <tbody>\n",
       "    <tr>\n",
       "      <th>0</th>\n",
       "      <td>E0001</td>\n",
       "      <td>Employee_1</td>\n",
       "      <td>52.000000</td>\n",
       "      <td>3</td>\n",
       "      <td>0.051886</td>\n",
       "      <td>0.3625</td>\n",
       "      <td>False</td>\n",
       "      <td>True</td>\n",
       "      <td>False</td>\n",
       "    </tr>\n",
       "    <tr>\n",
       "      <th>1</th>\n",
       "      <td>E0002</td>\n",
       "      <td>Employee_2</td>\n",
       "      <td>31.000000</td>\n",
       "      <td>1</td>\n",
       "      <td>-1.707445</td>\n",
       "      <td>0.1300</td>\n",
       "      <td>False</td>\n",
       "      <td>True</td>\n",
       "      <td>False</td>\n",
       "    </tr>\n",
       "    <tr>\n",
       "      <th>2</th>\n",
       "      <td>E0003</td>\n",
       "      <td>Employee_3</td>\n",
       "      <td>33.000000</td>\n",
       "      <td>2</td>\n",
       "      <td>1.156698</td>\n",
       "      <td>0.5900</td>\n",
       "      <td>False</td>\n",
       "      <td>True</td>\n",
       "      <td>False</td>\n",
       "    </tr>\n",
       "    <tr>\n",
       "      <th>3</th>\n",
       "      <td>E0004</td>\n",
       "      <td>Employee_4</td>\n",
       "      <td>48.000000</td>\n",
       "      <td>2</td>\n",
       "      <td>-0.772688</td>\n",
       "      <td>0.0425</td>\n",
       "      <td>False</td>\n",
       "      <td>True</td>\n",
       "      <td>False</td>\n",
       "    </tr>\n",
       "    <tr>\n",
       "      <th>4</th>\n",
       "      <td>E0005</td>\n",
       "      <td>Employee_5</td>\n",
       "      <td>30.000000</td>\n",
       "      <td>3</td>\n",
       "      <td>0.152416</td>\n",
       "      <td>0.3575</td>\n",
       "      <td>True</td>\n",
       "      <td>False</td>\n",
       "      <td>False</td>\n",
       "    </tr>\n",
       "    <tr>\n",
       "      <th>...</th>\n",
       "      <td>...</td>\n",
       "      <td>...</td>\n",
       "      <td>...</td>\n",
       "      <td>...</td>\n",
       "      <td>...</td>\n",
       "      <td>...</td>\n",
       "      <td>...</td>\n",
       "      <td>...</td>\n",
       "      <td>...</td>\n",
       "    </tr>\n",
       "    <tr>\n",
       "      <th>993</th>\n",
       "      <td>E0994</td>\n",
       "      <td>Employee_994</td>\n",
       "      <td>48.000000</td>\n",
       "      <td>2</td>\n",
       "      <td>-0.287688</td>\n",
       "      <td>0.0075</td>\n",
       "      <td>False</td>\n",
       "      <td>False</td>\n",
       "      <td>True</td>\n",
       "    </tr>\n",
       "    <tr>\n",
       "      <th>994</th>\n",
       "      <td>E0995</td>\n",
       "      <td>Employee_995</td>\n",
       "      <td>49.000000</td>\n",
       "      <td>2</td>\n",
       "      <td>0.590082</td>\n",
       "      <td>0.0850</td>\n",
       "      <td>False</td>\n",
       "      <td>True</td>\n",
       "      <td>False</td>\n",
       "    </tr>\n",
       "    <tr>\n",
       "      <th>995</th>\n",
       "      <td>E0996</td>\n",
       "      <td>Employee_996</td>\n",
       "      <td>38.000000</td>\n",
       "      <td>4</td>\n",
       "      <td>-0.994644</td>\n",
       "      <td>0.4825</td>\n",
       "      <td>True</td>\n",
       "      <td>False</td>\n",
       "      <td>False</td>\n",
       "    </tr>\n",
       "    <tr>\n",
       "      <th>996</th>\n",
       "      <td>E0997</td>\n",
       "      <td>Employee_997</td>\n",
       "      <td>40.000000</td>\n",
       "      <td>3</td>\n",
       "      <td>0.000244</td>\n",
       "      <td>0.0000</td>\n",
       "      <td>True</td>\n",
       "      <td>False</td>\n",
       "      <td>False</td>\n",
       "    </tr>\n",
       "    <tr>\n",
       "      <th>999</th>\n",
       "      <td>E1000</td>\n",
       "      <td>Employee_1000</td>\n",
       "      <td>38.298507</td>\n",
       "      <td>1</td>\n",
       "      <td>0.051886</td>\n",
       "      <td>0.3325</td>\n",
       "      <td>True</td>\n",
       "      <td>False</td>\n",
       "      <td>False</td>\n",
       "    </tr>\n",
       "  </tbody>\n",
       "</table>\n",
       "<p>818 rows × 9 columns</p>\n",
       "</div>"
      ],
      "text/plain": [
       "    Employee_ID           Name        Age Department    Salary  \\\n",
       "0         E0001     Employee_1  52.000000          3  0.051886   \n",
       "1         E0002     Employee_2  31.000000          1 -1.707445   \n",
       "2         E0003     Employee_3  33.000000          2  1.156698   \n",
       "3         E0004     Employee_4  48.000000          2 -0.772688   \n",
       "4         E0005     Employee_5  30.000000          3  0.152416   \n",
       "..          ...            ...        ...        ...       ...   \n",
       "993       E0994   Employee_994  48.000000          2 -0.287688   \n",
       "994       E0995   Employee_995  49.000000          2  0.590082   \n",
       "995       E0996   Employee_996  38.000000          4 -0.994644   \n",
       "996       E0997   Employee_997  40.000000          3  0.000244   \n",
       "999       E1000  Employee_1000  38.298507          1  0.051886   \n",
       "\n",
       "     Experience_Years  Gender_Female  Gender_Male  Gender_Non-binary  \n",
       "0              0.3625          False         True              False  \n",
       "1              0.1300          False         True              False  \n",
       "2              0.5900          False         True              False  \n",
       "3              0.0425          False         True              False  \n",
       "4              0.3575           True        False              False  \n",
       "..                ...            ...          ...                ...  \n",
       "993            0.0075          False        False               True  \n",
       "994            0.0850          False         True              False  \n",
       "995            0.4825           True        False              False  \n",
       "996            0.0000           True        False              False  \n",
       "999            0.3325           True        False              False  \n",
       "\n",
       "[818 rows x 9 columns]"
      ]
     },
     "execution_count": 76,
     "metadata": {},
     "output_type": "execute_result"
    }
   ],
   "source": [
    "df"
   ]
  },
  {
   "cell_type": "code",
   "execution_count": null,
   "id": "1585ede6-3d96-4fc0-a550-9749a60c52ca",
   "metadata": {},
   "outputs": [],
   "source": []
  },
  {
   "cell_type": "markdown",
   "id": "b5feecdc-835e-4179-bdc8-5971ce55a0f2",
   "metadata": {},
   "source": [
    "# Save the cleaned dataset"
   ]
  },
  {
   "cell_type": "code",
   "execution_count": 77,
   "id": "d6ecf24b-2122-494b-9d96-a522556c18ec",
   "metadata": {},
   "outputs": [
    {
     "name": "stdout",
     "output_type": "stream",
     "text": [
      "\n",
      "Cleaned dataset saved to cleaned_employee_data.csv\n"
     ]
    }
   ],
   "source": [
    "df.to_csv(\"cleaned_employee_data.csv\", index=False)\n",
    "print(f\"\\nCleaned dataset saved to {\"cleaned_employee_data.csv\"}\")"
   ]
  }
 ],
 "metadata": {
  "kernelspec": {
   "display_name": "Python 3 (ipykernel)",
   "language": "python",
   "name": "python3"
  },
  "language_info": {
   "codemirror_mode": {
    "name": "ipython",
    "version": 3
   },
   "file_extension": ".py",
   "mimetype": "text/x-python",
   "name": "python",
   "nbconvert_exporter": "python",
   "pygments_lexer": "ipython3",
   "version": "3.12.7"
  }
 },
 "nbformat": 4,
 "nbformat_minor": 5
}
